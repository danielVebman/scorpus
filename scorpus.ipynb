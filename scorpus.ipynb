{
 "cells": [
  {
   "cell_type": "code",
   "execution_count": 1,
   "metadata": {},
   "outputs": [],
   "source": [
    "import convokit"
   ]
  },
  {
   "cell_type": "code",
   "execution_count": 2,
   "metadata": {},
   "outputs": [
    {
     "ename": "KeyboardInterrupt",
     "evalue": "",
     "output_type": "error",
     "traceback": [
      "\u001b[0;31m---------------------------------------------------------------------------\u001b[0m",
      "\u001b[0;31mKeyboardInterrupt\u001b[0m                         Traceback (most recent call last)",
      "\u001b[1;32m/root/scorpus/scorpus.ipynb Cell 2\u001b[0m line \u001b[0;36m<cell line: 1>\u001b[0;34m()\u001b[0m\n\u001b[0;32m----> <a href='vscode-notebook-cell://ssh-remote%2Bscorpus/root/scorpus/scorpus.ipynb#W1sdnNjb2RlLXJlbW90ZQ%3D%3D?line=0'>1</a>\u001b[0m corpus \u001b[39m=\u001b[39m convokit\u001b[39m.\u001b[39;49mCorpus(filename\u001b[39m=\u001b[39;49m\u001b[39m\"\u001b[39;49m\u001b[39m/root/.convokit/downloads/supreme-corpus\u001b[39;49m\u001b[39m\"\u001b[39;49m)\n",
      "File \u001b[0;32m~/anaconda3/lib/python3.9/site-packages/convokit/model/corpus.py:143\u001b[0m, in \u001b[0;36mCorpus.__init__\u001b[0;34m(self, filename, utterances, db_collection_prefix, db_host, preload_vectors, utterance_start_index, utterance_end_index, merge_lines, exclude_utterance_meta, exclude_conversation_meta, exclude_speaker_meta, exclude_overall_meta, disable_type_check, backend, backend_mapper)\u001b[0m\n\u001b[1;32m    141\u001b[0m     \u001b[39mself\u001b[39m\u001b[39m.\u001b[39mmeta_index\u001b[39m.\u001b[39mdisable_type_check()\n\u001b[1;32m    142\u001b[0m \u001b[39mif\u001b[39;00m os\u001b[39m.\u001b[39mpath\u001b[39m.\u001b[39misdir(filename):\n\u001b[0;32m--> 143\u001b[0m     utterances \u001b[39m=\u001b[39m load_utterance_info_from_dir(\n\u001b[1;32m    144\u001b[0m         filename, utterance_start_index, utterance_end_index, exclude_utterance_meta\n\u001b[1;32m    145\u001b[0m     )\n\u001b[1;32m    147\u001b[0m     speakers_data \u001b[39m=\u001b[39m load_speakers_data_from_dir(filename, exclude_speaker_meta)\n\u001b[1;32m    148\u001b[0m     convos_data \u001b[39m=\u001b[39m load_convos_data_from_dir(filename, exclude_conversation_meta)\n",
      "File \u001b[0;32m~/anaconda3/lib/python3.9/site-packages/convokit/model/corpus_helpers.py:120\u001b[0m, in \u001b[0;36mload_utterance_info_from_dir\u001b[0;34m(dirname, utterance_start_index, utterance_end_index, exclude_utterance_meta)\u001b[0m\n\u001b[1;32m    118\u001b[0m         \u001b[39mfor\u001b[39;00m line \u001b[39min\u001b[39;00m f:\n\u001b[1;32m    119\u001b[0m             \u001b[39mif\u001b[39;00m utterance_start_index \u001b[39m<\u001b[39m\u001b[39m=\u001b[39m idx \u001b[39m<\u001b[39m\u001b[39m=\u001b[39m utterance_end_index:\n\u001b[0;32m--> 120\u001b[0m                 utterances\u001b[39m.\u001b[39mappend(json\u001b[39m.\u001b[39;49mloads(line))\n\u001b[1;32m    121\u001b[0m             idx \u001b[39m+\u001b[39m\u001b[39m=\u001b[39m \u001b[39m1\u001b[39m\n\u001b[1;32m    123\u001b[0m \u001b[39melif\u001b[39;00m os\u001b[39m.\u001b[39mpath\u001b[39m.\u001b[39mexists(os\u001b[39m.\u001b[39mpath\u001b[39m.\u001b[39mjoin(dirname, \u001b[39m\"\u001b[39m\u001b[39mutterances.json\u001b[39m\u001b[39m\"\u001b[39m)):\n",
      "File \u001b[0;32m~/anaconda3/lib/python3.9/json/__init__.py:346\u001b[0m, in \u001b[0;36mloads\u001b[0;34m(s, cls, object_hook, parse_float, parse_int, parse_constant, object_pairs_hook, **kw)\u001b[0m\n\u001b[1;32m    341\u001b[0m     s \u001b[39m=\u001b[39m s\u001b[39m.\u001b[39mdecode(detect_encoding(s), \u001b[39m'\u001b[39m\u001b[39msurrogatepass\u001b[39m\u001b[39m'\u001b[39m)\n\u001b[1;32m    343\u001b[0m \u001b[39mif\u001b[39;00m (\u001b[39mcls\u001b[39m \u001b[39mis\u001b[39;00m \u001b[39mNone\u001b[39;00m \u001b[39mand\u001b[39;00m object_hook \u001b[39mis\u001b[39;00m \u001b[39mNone\u001b[39;00m \u001b[39mand\u001b[39;00m\n\u001b[1;32m    344\u001b[0m         parse_int \u001b[39mis\u001b[39;00m \u001b[39mNone\u001b[39;00m \u001b[39mand\u001b[39;00m parse_float \u001b[39mis\u001b[39;00m \u001b[39mNone\u001b[39;00m \u001b[39mand\u001b[39;00m\n\u001b[1;32m    345\u001b[0m         parse_constant \u001b[39mis\u001b[39;00m \u001b[39mNone\u001b[39;00m \u001b[39mand\u001b[39;00m object_pairs_hook \u001b[39mis\u001b[39;00m \u001b[39mNone\u001b[39;00m \u001b[39mand\u001b[39;00m \u001b[39mnot\u001b[39;00m kw):\n\u001b[0;32m--> 346\u001b[0m     \u001b[39mreturn\u001b[39;00m _default_decoder\u001b[39m.\u001b[39;49mdecode(s)\n\u001b[1;32m    347\u001b[0m \u001b[39mif\u001b[39;00m \u001b[39mcls\u001b[39m \u001b[39mis\u001b[39;00m \u001b[39mNone\u001b[39;00m:\n\u001b[1;32m    348\u001b[0m     \u001b[39mcls\u001b[39m \u001b[39m=\u001b[39m JSONDecoder\n",
      "File \u001b[0;32m~/anaconda3/lib/python3.9/json/decoder.py:337\u001b[0m, in \u001b[0;36mJSONDecoder.decode\u001b[0;34m(self, s, _w)\u001b[0m\n\u001b[1;32m    332\u001b[0m \u001b[39mdef\u001b[39;00m \u001b[39mdecode\u001b[39m(\u001b[39mself\u001b[39m, s, _w\u001b[39m=\u001b[39mWHITESPACE\u001b[39m.\u001b[39mmatch):\n\u001b[1;32m    333\u001b[0m     \u001b[39m\"\"\"Return the Python representation of ``s`` (a ``str`` instance\u001b[39;00m\n\u001b[1;32m    334\u001b[0m \u001b[39m    containing a JSON document).\u001b[39;00m\n\u001b[1;32m    335\u001b[0m \n\u001b[1;32m    336\u001b[0m \u001b[39m    \"\"\"\u001b[39;00m\n\u001b[0;32m--> 337\u001b[0m     obj, end \u001b[39m=\u001b[39m \u001b[39mself\u001b[39;49m\u001b[39m.\u001b[39;49mraw_decode(s, idx\u001b[39m=\u001b[39;49m_w(s, \u001b[39m0\u001b[39;49m)\u001b[39m.\u001b[39;49mend())\n\u001b[1;32m    338\u001b[0m     end \u001b[39m=\u001b[39m _w(s, end)\u001b[39m.\u001b[39mend()\n\u001b[1;32m    339\u001b[0m     \u001b[39mif\u001b[39;00m end \u001b[39m!=\u001b[39m \u001b[39mlen\u001b[39m(s):\n",
      "File \u001b[0;32m~/anaconda3/lib/python3.9/json/decoder.py:353\u001b[0m, in \u001b[0;36mJSONDecoder.raw_decode\u001b[0;34m(self, s, idx)\u001b[0m\n\u001b[1;32m    344\u001b[0m \u001b[39m\"\"\"Decode a JSON document from ``s`` (a ``str`` beginning with\u001b[39;00m\n\u001b[1;32m    345\u001b[0m \u001b[39ma JSON document) and return a 2-tuple of the Python\u001b[39;00m\n\u001b[1;32m    346\u001b[0m \u001b[39mrepresentation and the index in ``s`` where the document ended.\u001b[39;00m\n\u001b[0;32m   (...)\u001b[0m\n\u001b[1;32m    350\u001b[0m \n\u001b[1;32m    351\u001b[0m \u001b[39m\"\"\"\u001b[39;00m\n\u001b[1;32m    352\u001b[0m \u001b[39mtry\u001b[39;00m:\n\u001b[0;32m--> 353\u001b[0m     obj, end \u001b[39m=\u001b[39m \u001b[39mself\u001b[39;49m\u001b[39m.\u001b[39;49mscan_once(s, idx)\n\u001b[1;32m    354\u001b[0m \u001b[39mexcept\u001b[39;00m \u001b[39mStopIteration\u001b[39;00m \u001b[39mas\u001b[39;00m err:\n\u001b[1;32m    355\u001b[0m     \u001b[39mraise\u001b[39;00m JSONDecodeError(\u001b[39m\"\u001b[39m\u001b[39mExpecting value\u001b[39m\u001b[39m\"\u001b[39m, s, err\u001b[39m.\u001b[39mvalue) \u001b[39mfrom\u001b[39;00m \u001b[39mNone\u001b[39m\n",
      "\u001b[0;31mKeyboardInterrupt\u001b[0m: "
     ]
    }
   ],
   "source": [
    "corpus = convokit.Corpus(filename=\"/root/.convokit/downloads/supreme-corpus\")"
   ]
  },
  {
   "cell_type": "code",
   "execution_count": 4,
   "metadata": {},
   "outputs": [
    {
     "name": "stdout",
     "output_type": "stream",
     "text": [
      "Number of Speakers: 8979\n",
      "Number of Utterances: 1700789\n",
      "Number of Conversations: 7817\n"
     ]
    }
   ],
   "source": [
    "corpus.print_summary_stats()"
   ]
  },
  {
   "cell_type": "code",
   "execution_count": 7,
   "metadata": {},
   "outputs": [
    {
     "data": {
      "text/plain": [
       "<AxesSubplot:>"
      ]
     },
     "execution_count": 7,
     "metadata": {},
     "output_type": "execute_result"
    },
    {
     "data": {
      "image/png": "[encoded data removed]",
      "text/plain": [
       "<Figure size 432x288 with 1 Axes>"
      ]
     },
     "metadata": {
      "needs_background": "light"
     },
     "output_type": "display_data"
    }
   ],
   "source": [
    "import pandas as pd\n",
    "case_ids = [corpus.conversations[convo].meta['case_id'] for convo in corpus.conversations]\n",
    "years = pd.Series([int(id[:4]) for id in case_ids])\n",
    "years.value_counts().sort_index().plot()"
   ]
  },
  {
   "cell_type": "code",
   "execution_count": 10,
   "metadata": {},
   "outputs": [],
   "source": [
    "convo = corpus.random_conversation()\n",
    "meta: convokit.ConvoKitMeta = convo.meta"
   ]
  },
  {
   "cell_type": "code",
   "execution_count": 11,
   "metadata": {},
   "outputs": [
    {
     "data": {
      "text/plain": [
       "(0,\n",
       " {'j__william_o_douglas': 0,\n",
       "  'j__potter_stewart': 0,\n",
       "  'j__thurgood_marshall': 0,\n",
       "  'j__william_j_brennan_jr': 0,\n",
       "  'j__byron_r_white': 0,\n",
       "  'j__warren_e_burger': 0,\n",
       "  'j__harry_a_blackmun': 0,\n",
       "  'j__lewis_f_powell_jr': 0,\n",
       "  'j__william_h_rehnquist': 0})"
      ]
     },
     "execution_count": 11,
     "metadata": {},
     "output_type": "execute_result"
    }
   ],
   "source": [
    "meta.get('win_side'), meta.get('votes_side')"
   ]
  },
  {
   "cell_type": "markdown",
   "metadata": {},
   "source": [
    "# Get chunks"
   ]
  },
  {
   "cell_type": "code",
   "execution_count": 13,
   "metadata": {},
   "outputs": [],
   "source": [
    "def get_chunks_from(convo: convokit.Conversation):\n",
    "  df = convo.get_utterances_dataframe()\n",
    "  chunks = []\n",
    "  cur_chunk = []\n",
    "  cur_dyad = []\n",
    "  chunk_start = 0\n",
    "  while chunk_start < len(df):\n",
    "    # greedily extract chunk\n",
    "    label = df.index[chunk_start]\n",
    "    speaker = df.iloc[chunk_start]['speaker']\n",
    "    speaker_type = df.iloc[chunk_start]['meta.speaker_type']\n",
    "    \n",
    "    if speaker_type != 'A':\n",
    "      # chunks should begin with an advocate speaking\n",
    "      chunk_start += 1\n",
    "      continue\n",
    "    \n",
    "    # otherwise, begin a new chunk\n",
    "    cur_dyad.append(speaker)\n",
    "\n",
    "    chunk_end = chunk_start\n",
    "    while chunk_end < len(df):\n",
    "      label2 = df.index[chunk_end]\n",
    "      speaker2 = df.iloc[chunk_end]['speaker']\n",
    "      speaker2_type = df.iloc[chunk_end]['meta.speaker_type']\n",
    "      if speaker2_type == 'A' and speaker2 not in cur_dyad:\n",
    "        # chunks should have only 1 advocate\n",
    "        break\n",
    "      elif speaker2_type == 'J' and speaker2 not in cur_dyad:\n",
    "        if len(cur_dyad) == 2:\n",
    "          # chunks should have only 1 justice\n",
    "          break\n",
    "        else:\n",
    "          # this is the first time we've encountered a new justice\n",
    "          cur_dyad.append(speaker2)\n",
    "\n",
    "      cur_chunk.append(label2)\n",
    "      chunk_end += 1\n",
    "    \n",
    "    if len(cur_chunk) >= 4:\n",
    "      # chunks must have at least 4 utterances\n",
    "      chunks.append(cur_chunk)\n",
    "      # allow the next chunk to start using the end of this chunk\n",
    "      chunk_start = chunk_end - 1 \n",
    "    else:\n",
    "      # try to start a chunk at the next utterance\n",
    "      chunk_start += 1\n",
    "    \n",
    "    cur_chunk = []\n",
    "    cur_dyad = []\n",
    "\n",
    "  return chunks\n",
    "\n",
    "chunks = get_chunks_from(convo)"
   ]
  },
  {
   "cell_type": "code",
   "execution_count": 15,
   "metadata": {},
   "outputs": [
    {
     "data": {
      "text/html": [
       "<div>\n",
       "<style scoped>\n",
       "    .dataframe tbody tr th:only-of-type {\n",
       "        vertical-align: middle;\n",
       "    }\n",
       "\n",
       "    .dataframe tbody tr th {\n",
       "        vertical-align: top;\n",
       "    }\n",
       "\n",
       "    .dataframe thead th {\n",
       "        text-align: right;\n",
       "    }\n",
       "</style>\n",
       "<table border=\"1\" class=\"dataframe\">\n",
       "  <thead>\n",
       "    <tr style=\"text-align: right;\">\n",
       "      <th></th>\n",
       "      <th>speaker</th>\n",
       "      <th>text</th>\n",
       "    </tr>\n",
       "    <tr>\n",
       "      <th>id</th>\n",
       "      <th></th>\n",
       "      <th></th>\n",
       "    </tr>\n",
       "  </thead>\n",
       "  <tbody>\n",
       "    <tr>\n",
       "      <th>15688__0_005</th>\n",
       "      <td>bernard_dunau</td>\n",
       "      <td>With respect to a person who did not resign, t...</td>\n",
       "    </tr>\n",
       "    <tr>\n",
       "      <th>15688__0_006</th>\n",
       "      <td>j__harry_a_blackmun</td>\n",
       "      <td>Mr. Dunau?</td>\n",
       "    </tr>\n",
       "    <tr>\n",
       "      <th>15688__0_007</th>\n",
       "      <td>bernard_dunau</td>\n",
       "      <td>Yes sir.</td>\n",
       "    </tr>\n",
       "    <tr>\n",
       "      <th>15688__0_008</th>\n",
       "      <td>j__harry_a_blackmun</td>\n",
       "      <td>It may not be important, but I'm a little fuzz...</td>\n",
       "    </tr>\n",
       "    <tr>\n",
       "      <th>15688__0_009</th>\n",
       "      <td>bernard_dunau</td>\n",
       "      <td>No sir, we do not know and we can never know b...</td>\n",
       "    </tr>\n",
       "    <tr>\n",
       "      <th>15688__0_010</th>\n",
       "      <td>j__harry_a_blackmun</td>\n",
       "      <td>Does the record show whether each person fined...</td>\n",
       "    </tr>\n",
       "    <tr>\n",
       "      <th>15688__0_011</th>\n",
       "      <td>bernard_dunau</td>\n",
       "      <td>I believe the record will show that Your Honor...</td>\n",
       "    </tr>\n",
       "    <tr>\n",
       "      <th>15688__0_012</th>\n",
       "      <td>j__harry_a_blackmun</td>\n",
       "      <td>One last question, I take it does show that th...</td>\n",
       "    </tr>\n",
       "    <tr>\n",
       "      <th>15688__0_013</th>\n",
       "      <td>bernard_dunau</td>\n",
       "      <td>Yes sir, it will show when the letter of resig...</td>\n",
       "    </tr>\n",
       "  </tbody>\n",
       "</table>\n",
       "</div>"
      ],
      "text/plain": [
       "                          speaker  \\\n",
       "id                                  \n",
       "15688__0_005        bernard_dunau   \n",
       "15688__0_006  j__harry_a_blackmun   \n",
       "15688__0_007        bernard_dunau   \n",
       "15688__0_008  j__harry_a_blackmun   \n",
       "15688__0_009        bernard_dunau   \n",
       "15688__0_010  j__harry_a_blackmun   \n",
       "15688__0_011        bernard_dunau   \n",
       "15688__0_012  j__harry_a_blackmun   \n",
       "15688__0_013        bernard_dunau   \n",
       "\n",
       "                                                           text  \n",
       "id                                                               \n",
       "15688__0_005  With respect to a person who did not resign, t...  \n",
       "15688__0_006                                         Mr. Dunau?  \n",
       "15688__0_007                                           Yes sir.  \n",
       "15688__0_008  It may not be important, but I'm a little fuzz...  \n",
       "15688__0_009  No sir, we do not know and we can never know b...  \n",
       "15688__0_010  Does the record show whether each person fined...  \n",
       "15688__0_011  I believe the record will show that Your Honor...  \n",
       "15688__0_012  One last question, I take it does show that th...  \n",
       "15688__0_013  Yes sir, it will show when the letter of resig...  "
      ]
     },
     "execution_count": 15,
     "metadata": {},
     "output_type": "execute_result"
    }
   ],
   "source": [
    "convo.get_utterances_dataframe().loc[chunks[1], ['speaker', 'text']]"
   ]
  },
  {
   "cell_type": "markdown",
   "metadata": {},
   "source": [
    "# Old get gender method"
   ]
  },
  {
   "cell_type": "code",
   "execution_count": 42,
   "metadata": {},
   "outputs": [],
   "source": [
    "from enum import Enum\n",
    "\n",
    "class Gender(Enum):\n",
    "  MALE = 0\n",
    "  FEMALE = 1\n",
    "\n",
    "  @property\n",
    "  def honorific(self):\n",
    "    if self == Gender.MALE:\n",
    "      return 'Mr.'\n",
    "    else:\n",
    "      return 'Ms.'"
   ]
  },
  {
   "cell_type": "code",
   "execution_count": 125,
   "metadata": {},
   "outputs": [],
   "source": [
    "def get_advocate_genders(convo: convokit.Conversation):\n",
    "  speakers = convo.get_speakers_dataframe()\n",
    "  is_advocate = speakers['meta.type'] == 'A'\n",
    "  lastnames = speakers.loc[is_advocate, 'meta.name'] \\\n",
    "    .apply(lambda n: n.split(' ')[-1])\n",
    "\n",
    "  advocate_genders = pd.Series(None, index=lastnames.index, name='gender', dtype=object)\n",
    "\n",
    "  for advocate_id in advocate_genders.index:\n",
    "    genders_found = [\n",
    "      gender for gender in Gender\n",
    "      if convo.get_utterances_dataframe().text.str.contains(gender.honorific + ' ' + lastnames[advocate_id]).any()\n",
    "    ]\n",
    "    \n",
    "    if len(genders_found) == 1:\n",
    "      advocate_genders[advocate_id] = genders_found[0]\n",
    "\n",
    "  return advocate_genders"
   ]
  },
  {
   "cell_type": "code",
   "execution_count": 150,
   "metadata": {},
   "outputs": [
    {
     "name": "stdout",
     "output_type": "stream",
     "text": [
      "2100 / 7817\n"
     ]
    }
   ],
   "source": [
    "from IPython.display import clear_output\n",
    "\n",
    "advocate_genders_per_convo = {}\n",
    "convo_ids = corpus.get_conversation_ids()\n",
    "for i, convo_id in enumerate(convo_ids):\n",
    "  if i % 100 == 0:\n",
    "    clear_output(wait=True)\n",
    "    print(i, '/', len(convo_ids))\n",
    "  convo = corpus.get_conversation(convo_id)\n",
    "  advocate_genders_per_convo[convo_id] = get_advocate_genders(convo)"
   ]
  },
  {
   "cell_type": "markdown",
   "metadata": {},
   "source": [
    "# New get gender method"
   ]
  },
  {
   "cell_type": "code",
   "execution_count": 478,
   "metadata": {},
   "outputs": [],
   "source": [
    "from nameparser import HumanName\n",
    "\n",
    "advocate_names = corpus.get_speakers_dataframe(lambda s: s.get_meta().get('type') == 'A') \\\n",
    "  .rename(columns={'meta.name': 'name'})[['name']]\n",
    "advocate_names['lastname'] = advocate_names['name'].apply(lambda n: HumanName(n).last)\n",
    "advocate_names['male_honorific'] = 'Mr. ' + advocate_names['lastname']\n",
    "advocate_names['female_honorific'] = 'Ms. ' + advocate_names['lastname']"
   ]
  },
  {
   "cell_type": "code",
   "execution_count": null,
   "metadata": {},
   "outputs": [],
   "source": [
    "all_advocates = all_convos['meta.advocates'].apply(lambda a: a.keys()) \\\n",
    "  .explode() \\\n",
    "  .replace('', None) \\\n",
    "  .dropna() \\\n",
    "  .reset_index() \\\n",
    "  .rename(columns={'id': 'conversation_id', 'meta.advocates': 'advocate_id'})"
   ]
  },
  {
   "cell_type": "code",
   "execution_count": null,
   "metadata": {},
   "outputs": [],
   "source": [
    "advocate_names.index.symmetric_difference(honorifics_uttered.index)"
   ]
  },
  {
   "cell_type": "code",
   "execution_count": 165,
   "metadata": {},
   "outputs": [],
   "source": [
    "all_convos = corpus.get_conversations_dataframe()"
   ]
  },
  {
   "cell_type": "code",
   "execution_count": 400,
   "metadata": {},
   "outputs": [],
   "source": [
    "advocates = all_convos['meta.advocates'].apply(lambda a: a.keys()).explode().to_frame().rename(columns={'meta.advocates': 'advocate_id'})\n",
    "advocates['lastname'] = advocates['advocate_id'].str.split('_').str[-1].str.capitalize()\n",
    "advocates['male_honorific'] = 'Mr. ' + lastnames\n",
    "advocates['female_honorific'] = 'Ms. ' + lastnames"
   ]
  },
  {
   "cell_type": "code",
   "execution_count": null,
   "metadata": {},
   "outputs": [],
   "source": [
    "mr_utterances = corpus.get_utterances_dataframe(selector=lambda u: 'Mr.' in u.text, exclude_meta=True)\n",
    "ms_utterances = corpus.get_utterances_dataframe(selector=lambda u: 'Ms.' in u.text, exclude_meta=True)"
   ]
  },
  {
   "cell_type": "code",
   "execution_count": 531,
   "metadata": {},
   "outputs": [],
   "source": [
    "j_mr_utt = mr_utterances[mr_utterances.speaker.str.contains('j__')].copy().set_index('conversation_id')['text'].str.findall(r'Mr. \\w+')\n",
    "j_mr_utt.name = 'j_mr_honorifics_uttered'\n",
    "j_ms_utt = ms_utterances[ms_utterances.speaker.str.contains('j__')].copy().set_index('conversation_id')['text'].str.findall(r'Ms. \\w+')\n",
    "j_ms_utt.name = 'j_ms_honorifics_uttered'\n",
    "\n",
    "honorifics_uttered = all_advocates.merge(j_mr_utt.groupby(level=0).sum().reset_index(), on='conversation_id') \\\n",
    "  .merge(j_ms_utt.groupby(level=0).sum().reset_index(), on='conversation_id') \\\n",
    "  .groupby('advocate_id')[['j_mr_honorifics_uttered', 'j_ms_honorifics_uttered']].sum().apply(np.vectorize(set))"
   ]
  },
  {
   "cell_type": "code",
   "execution_count": 538,
   "metadata": {},
   "outputs": [
    {
     "data": {
      "text/plain": [
       "Index(['joseph_forer', 'john_j_abt', 'marvin_e_frankel', 'daniel_m_friedman',\n",
       "       'oscar_h_davis', 'a_l_wirin', 'bessie_margolin', 'milton_c_denbo',\n",
       "       'mark_f_hughes', 'willard_s_johnston',\n",
       "       ...\n",
       "       'monica_l_miller', 'jeffrey_m_harris', 'michael_j_mongan',\n",
       "       'jessica_e_mendez-colberg', 'kendall_turner', 'k_winn_allen',\n",
       "       'julie_rikelman', 'sarah_schrup', 'toby_crouse', 'eric_c_rassbach'],\n",
       "      dtype='object', length=1683)"
      ]
     },
     "execution_count": 538,
     "metadata": {},
     "output_type": "execute_result"
    }
   ],
   "source": [
    "advocate_names.index.intersection(honorifics_uttered.index)"
   ]
  },
  {
   "cell_type": "code",
   "execution_count": 539,
   "metadata": {},
   "outputs": [
    {
     "data": {
      "text/html": [
       "<div>\n",
       "<style scoped>\n",
       "    .dataframe tbody tr th:only-of-type {\n",
       "        vertical-align: middle;\n",
       "    }\n",
       "\n",
       "    .dataframe tbody tr th {\n",
       "        vertical-align: top;\n",
       "    }\n",
       "\n",
       "    .dataframe thead th {\n",
       "        text-align: right;\n",
       "    }\n",
       "</style>\n",
       "<table border=\"1\" class=\"dataframe\">\n",
       "  <thead>\n",
       "    <tr style=\"text-align: right;\">\n",
       "      <th></th>\n",
       "      <th>name</th>\n",
       "      <th>lastname</th>\n",
       "      <th>male_honorific</th>\n",
       "      <th>female_honorific</th>\n",
       "      <th>j_mr_honorifics_uttered</th>\n",
       "      <th>j_ms_honorifics_uttered</th>\n",
       "    </tr>\n",
       "  </thead>\n",
       "  <tbody>\n",
       "    <tr>\n",
       "      <th>joseph_forer</th>\n",
       "      <td>Joseph Forer</td>\n",
       "      <td>Forer</td>\n",
       "      <td>Mr. Forer</td>\n",
       "      <td>Ms. Forer</td>\n",
       "      <td>{Mr. Forer, Mr. Kardy, Mr. Chayes, Mr. Prescot...</td>\n",
       "      <td>{Ms. Lynn, Ms. Flynn}</td>\n",
       "    </tr>\n",
       "    <tr>\n",
       "      <th>john_j_abt</th>\n",
       "      <td>John J. Abt</td>\n",
       "      <td>Abt</td>\n",
       "      <td>Mr. Abt</td>\n",
       "      <td>Ms. Abt</td>\n",
       "      <td>{Mr. Forer, Mr. Maroney, Mr. Chayes, Mr. Abt, ...</td>\n",
       "      <td>{Ms. Chapp, Ms. Flynn}</td>\n",
       "    </tr>\n",
       "    <tr>\n",
       "      <th>marvin_e_frankel</th>\n",
       "      <td>Marvin E. Frankel</td>\n",
       "      <td>Frankel</td>\n",
       "      <td>Mr. Frankel</td>\n",
       "      <td>Ms. Frankel</td>\n",
       "      <td>{Mr. Frankel, Mr. Young, Mr. Chanin}</td>\n",
       "      <td>{Ms. French}</td>\n",
       "    </tr>\n",
       "    <tr>\n",
       "      <th>daniel_m_friedman</th>\n",
       "      <td>Daniel M. Friedman</td>\n",
       "      <td>Friedman</td>\n",
       "      <td>Mr. Friedman</td>\n",
       "      <td>Ms. Friedman</td>\n",
       "      <td>{Mr. Goldberg, Mr. Lane, Mr. Tavenner, Mr. Niz...</td>\n",
       "      <td>{Ms. Rogers}</td>\n",
       "    </tr>\n",
       "    <tr>\n",
       "      <th>oscar_h_davis</th>\n",
       "      <td>Oscar H. Davis</td>\n",
       "      <td>Davis</td>\n",
       "      <td>Mr. Davis</td>\n",
       "      <td>Ms. Davis</td>\n",
       "      <td>{Mr. Boudin, Mr. Davis}</td>\n",
       "      <td>{Ms. Elg}</td>\n",
       "    </tr>\n",
       "    <tr>\n",
       "      <th>...</th>\n",
       "      <td>...</td>\n",
       "      <td>...</td>\n",
       "      <td>...</td>\n",
       "      <td>...</td>\n",
       "      <td>...</td>\n",
       "      <td>...</td>\n",
       "    </tr>\n",
       "    <tr>\n",
       "      <th>k_winn_allen</th>\n",
       "      <td>K. Winn Allen</td>\n",
       "      <td>Allen</td>\n",
       "      <td>Mr. Allen</td>\n",
       "      <td>Ms. Allen</td>\n",
       "      <td>{Mr. Allen}</td>\n",
       "      <td>{Ms. Kendall, Ms. Ratner, Ms. Turner}</td>\n",
       "    </tr>\n",
       "    <tr>\n",
       "      <th>julie_rikelman</th>\n",
       "      <td>Julie Rikelman</td>\n",
       "      <td>Rikelman</td>\n",
       "      <td>Mr. Rikelman</td>\n",
       "      <td>Ms. Rikelman</td>\n",
       "      <td>{Mr. Wall}</td>\n",
       "      <td>{Ms. Rikelman}</td>\n",
       "    </tr>\n",
       "    <tr>\n",
       "      <th>sarah_schrup</th>\n",
       "      <td>Sarah Schrup</td>\n",
       "      <td>Schrup</td>\n",
       "      <td>Mr. Schrup</td>\n",
       "      <td>Ms. Schrup</td>\n",
       "      <td>{Mr. Crouse, Mr. Chief}</td>\n",
       "      <td>{Ms. Schrup, Ms. Prelogar}</td>\n",
       "    </tr>\n",
       "    <tr>\n",
       "      <th>toby_crouse</th>\n",
       "      <td>Toby Crouse</td>\n",
       "      <td>Crouse</td>\n",
       "      <td>Mr. Crouse</td>\n",
       "      <td>Ms. Crouse</td>\n",
       "      <td>{Mr. Crouse, Mr. Chief, Mr. So, Mr. Huston}</td>\n",
       "      <td>{Ms. Schrup, Ms. Prelogar, Ms. Harrington}</td>\n",
       "    </tr>\n",
       "    <tr>\n",
       "      <th>eric_c_rassbach</th>\n",
       "      <td>Eric C. Rassbach</td>\n",
       "      <td>Rassbach</td>\n",
       "      <td>Mr. Rassbach</td>\n",
       "      <td>Ms. Rassbach</td>\n",
       "      <td>{Mr. Rassbach, Mr. Chief, Mr. Fisher}</td>\n",
       "      <td>{Ms. Ratner}</td>\n",
       "    </tr>\n",
       "  </tbody>\n",
       "</table>\n",
       "<p>1683 rows × 6 columns</p>\n",
       "</div>"
      ],
      "text/plain": [
       "                                 name  lastname male_honorific  \\\n",
       "joseph_forer             Joseph Forer     Forer      Mr. Forer   \n",
       "john_j_abt                John J. Abt       Abt        Mr. Abt   \n",
       "marvin_e_frankel    Marvin E. Frankel   Frankel    Mr. Frankel   \n",
       "daniel_m_friedman  Daniel M. Friedman  Friedman   Mr. Friedman   \n",
       "oscar_h_davis          Oscar H. Davis     Davis      Mr. Davis   \n",
       "...                               ...       ...            ...   \n",
       "k_winn_allen            K. Winn Allen     Allen      Mr. Allen   \n",
       "julie_rikelman         Julie Rikelman  Rikelman   Mr. Rikelman   \n",
       "sarah_schrup             Sarah Schrup    Schrup     Mr. Schrup   \n",
       "toby_crouse               Toby Crouse    Crouse     Mr. Crouse   \n",
       "eric_c_rassbach      Eric C. Rassbach  Rassbach   Mr. Rassbach   \n",
       "\n",
       "                  female_honorific  \\\n",
       "joseph_forer             Ms. Forer   \n",
       "john_j_abt                 Ms. Abt   \n",
       "marvin_e_frankel       Ms. Frankel   \n",
       "daniel_m_friedman     Ms. Friedman   \n",
       "oscar_h_davis            Ms. Davis   \n",
       "...                            ...   \n",
       "k_winn_allen             Ms. Allen   \n",
       "julie_rikelman        Ms. Rikelman   \n",
       "sarah_schrup            Ms. Schrup   \n",
       "toby_crouse             Ms. Crouse   \n",
       "eric_c_rassbach       Ms. Rassbach   \n",
       "\n",
       "                                             j_mr_honorifics_uttered  \\\n",
       "joseph_forer       {Mr. Forer, Mr. Kardy, Mr. Chayes, Mr. Prescot...   \n",
       "john_j_abt         {Mr. Forer, Mr. Maroney, Mr. Chayes, Mr. Abt, ...   \n",
       "marvin_e_frankel                {Mr. Frankel, Mr. Young, Mr. Chanin}   \n",
       "daniel_m_friedman  {Mr. Goldberg, Mr. Lane, Mr. Tavenner, Mr. Niz...   \n",
       "oscar_h_davis                                {Mr. Boudin, Mr. Davis}   \n",
       "...                                                              ...   \n",
       "k_winn_allen                                             {Mr. Allen}   \n",
       "julie_rikelman                                            {Mr. Wall}   \n",
       "sarah_schrup                                 {Mr. Crouse, Mr. Chief}   \n",
       "toby_crouse              {Mr. Crouse, Mr. Chief, Mr. So, Mr. Huston}   \n",
       "eric_c_rassbach                {Mr. Rassbach, Mr. Chief, Mr. Fisher}   \n",
       "\n",
       "                                      j_ms_honorifics_uttered  \n",
       "joseph_forer                            {Ms. Lynn, Ms. Flynn}  \n",
       "john_j_abt                             {Ms. Chapp, Ms. Flynn}  \n",
       "marvin_e_frankel                                 {Ms. French}  \n",
       "daniel_m_friedman                                {Ms. Rogers}  \n",
       "oscar_h_davis                                       {Ms. Elg}  \n",
       "...                                                       ...  \n",
       "k_winn_allen            {Ms. Kendall, Ms. Ratner, Ms. Turner}  \n",
       "julie_rikelman                                 {Ms. Rikelman}  \n",
       "sarah_schrup                       {Ms. Schrup, Ms. Prelogar}  \n",
       "toby_crouse        {Ms. Schrup, Ms. Prelogar, Ms. Harrington}  \n",
       "eric_c_rassbach                                  {Ms. Ratner}  \n",
       "\n",
       "[1683 rows x 6 columns]"
      ]
     },
     "execution_count": 539,
     "metadata": {},
     "output_type": "execute_result"
    }
   ],
   "source": [
    "advocate_names.join(honorifics_uttered, how='inner')"
   ]
  },
  {
   "cell_type": "code",
   "execution_count": 335,
   "metadata": {},
   "outputs": [],
   "source": [
    "advocates['matched_mr'] = advocates.apply(lambda a: a['male_honorific'] in a['j_mr_honorifics_uttered'] if type(a['j_mr_honorifics_uttered']) == set else False, axis=1)\n",
    "advocates['matched_ms'] = advocates.apply(lambda a: a['female_honorific'] in a['j_ms_honorifics_uttered'] if type(a['j_ms_honorifics_uttered']) == set else False, axis=1)"
   ]
  },
  {
   "cell_type": "code",
   "execution_count": 337,
   "metadata": {},
   "outputs": [],
   "source": [
    "advocates['gender'] = None\n",
    "advocates.loc[matched_mr & ~matched_ms, 'gender'] = False  # male\n",
    "advocates.loc[~matched_mr & matched_ms, 'gender'] = True   # female"
   ]
  },
  {
   "cell_type": "code",
   "execution_count": 371,
   "metadata": {},
   "outputs": [
    {
     "data": {
      "text/html": [
       "<div>\n",
       "<style scoped>\n",
       "    .dataframe tbody tr th:only-of-type {\n",
       "        vertical-align: middle;\n",
       "    }\n",
       "\n",
       "    .dataframe tbody tr th {\n",
       "        vertical-align: top;\n",
       "    }\n",
       "\n",
       "    .dataframe thead th {\n",
       "        text-align: right;\n",
       "    }\n",
       "</style>\n",
       "<table border=\"1\" class=\"dataframe\">\n",
       "  <thead>\n",
       "    <tr style=\"text-align: right;\">\n",
       "      <th></th>\n",
       "      <th>advocate_id</th>\n",
       "      <th>lastname</th>\n",
       "      <th>male_honorific</th>\n",
       "      <th>female_honorific</th>\n",
       "      <th>j_mr_honorifics_uttered</th>\n",
       "      <th>j_ms_honorifics_uttered</th>\n",
       "      <th>matched_mr</th>\n",
       "      <th>matched_ms</th>\n",
       "      <th>gender</th>\n",
       "    </tr>\n",
       "  </thead>\n",
       "  <tbody>\n",
       "    <tr>\n",
       "      <th>13105</th>\n",
       "      <td>wray_g_zelt_jr</td>\n",
       "      <td>Jr</td>\n",
       "      <td>Mr. Jr</td>\n",
       "      <td>Ms. Jr</td>\n",
       "      <td>{Mr. Zelt, Mr. Roney, Mr. District, Mr. Levy}</td>\n",
       "      <td>{Ms. Watson, Ms. Matson}</td>\n",
       "      <td>False</td>\n",
       "      <td>False</td>\n",
       "      <td>None</td>\n",
       "    </tr>\n",
       "  </tbody>\n",
       "</table>\n",
       "</div>"
      ],
      "text/plain": [
       "          advocate_id lastname male_honorific female_honorific  \\\n",
       "13105  wray_g_zelt_jr       Jr         Mr. Jr           Ms. Jr   \n",
       "\n",
       "                             j_mr_honorifics_uttered  \\\n",
       "13105  {Mr. Zelt, Mr. Roney, Mr. District, Mr. Levy}   \n",
       "\n",
       "        j_ms_honorifics_uttered  matched_mr  matched_ms gender  \n",
       "13105  {Ms. Watson, Ms. Matson}       False       False   None  "
      ]
     },
     "execution_count": 371,
     "metadata": {},
     "output_type": "execute_result"
    }
   ],
   "source": [
    "advocates[advocates.advocate_id == 'wray_g_zelt_jr']"
   ]
  },
  {
   "cell_type": "code",
   "execution_count": 345,
   "metadata": {},
   "outputs": [
    {
     "data": {
      "text/plain": [
       "3076"
      ]
     },
     "execution_count": 345,
     "metadata": {},
     "output_type": "execute_result"
    }
   ],
   "source": [
    "advocates.j_ms_honorifics_uttered.notna().sum()"
   ]
  },
  {
   "cell_type": "code",
   "execution_count": 342,
   "metadata": {},
   "outputs": [
    {
     "data": {
      "text/plain": [
       "(1108, 5416, 20601)"
      ]
     },
     "execution_count": 342,
     "metadata": {},
     "output_type": "execute_result"
    }
   ],
   "source": [
    "advocates.gender.sum(), advocates.gender.isna().sum(), len(advocates)"
   ]
  },
  {
   "cell_type": "code",
   "execution_count": 348,
   "metadata": {},
   "outputs": [],
   "source": [
    "is_m = advocates.groupby('advocate_id').gender.min()\n",
    "is_f = advocates.groupby('advocate_id').gender.max()"
   ]
  },
  {
   "cell_type": "code",
   "execution_count": 389,
   "metadata": {},
   "outputs": [
    {
     "data": {
      "text/plain": [
       "advocate_id\n",
       "                       False\n",
       "a_alan_reich            True\n",
       "a_alvis_layne           True\n",
       "a_b_howland             True\n",
       "a_benjamin_goldgar      True\n",
       "                       ...  \n",
       "zachary_d_tripp         True\n",
       "zackery_p_morazzini     True\n",
       "zane_d_wilson           True\n",
       "zona_f_hostetler       False\n",
       "zygmunt_j_b_plater      True\n",
       "Name: gender, Length: 9331, dtype: bool"
      ]
     },
     "execution_count": 389,
     "metadata": {},
     "output_type": "execute_result"
    }
   ],
   "source": [
    "is_m == is_f"
   ]
  },
  {
   "cell_type": "code",
   "execution_count": 392,
   "metadata": {},
   "outputs": [
    {
     "data": {
      "text/plain": [
       "0"
      ]
     },
     "execution_count": 392,
     "metadata": {},
     "output_type": "execute_result"
    }
   ],
   "source": [
    "(is_m.isna() & is_f.notna()).sum()"
   ]
  },
  {
   "cell_type": "code",
   "execution_count": 393,
   "metadata": {},
   "outputs": [
    {
     "data": {
      "text/plain": [
       "advocate_id\n",
       "                         NaN\n",
       "a_alan_reich           False\n",
       "a_alvis_layne          False\n",
       "a_b_howland            False\n",
       "a_benjamin_goldgar     False\n",
       "                       ...  \n",
       "zachary_d_tripp        False\n",
       "zackery_p_morazzini    False\n",
       "zane_d_wilson          False\n",
       "zona_f_hostetler         NaN\n",
       "zygmunt_j_b_plater     False\n",
       "Name: gender, Length: 9331, dtype: object"
      ]
     },
     "execution_count": 393,
     "metadata": {},
     "output_type": "execute_result"
    }
   ],
   "source": [
    "is_m"
   ]
  },
  {
   "cell_type": "code",
   "execution_count": 388,
   "metadata": {},
   "outputs": [
    {
     "data": {
      "text/plain": [
       "advocate_id\n",
       "                         NaN\n",
       "a_alan_reich           False\n",
       "a_alvis_layne          False\n",
       "a_b_howland            False\n",
       "a_benjamin_goldgar     False\n",
       "                       ...  \n",
       "zachary_d_tripp        False\n",
       "zackery_p_morazzini    False\n",
       "zane_d_wilson          False\n",
       "zona_f_hostetler         NaN\n",
       "zygmunt_j_b_plater     False\n",
       "Name: gender, Length: 9331, dtype: object"
      ]
     },
     "execution_count": 388,
     "metadata": {},
     "output_type": "execute_result"
    }
   ],
   "source": [
    "is_f"
   ]
  },
  {
   "cell_type": "code",
   "execution_count": 384,
   "metadata": {},
   "outputs": [
    {
     "data": {
      "text/plain": [
       "advocate_id\n",
       "a_alan_reich           False\n",
       "a_alvis_layne          False\n",
       "a_b_howland            False\n",
       "a_benjamin_goldgar     False\n",
       "a_c_epps               False\n",
       "                       ...  \n",
       "zachary_d_fasman       False\n",
       "zachary_d_tripp        False\n",
       "zackery_p_morazzini    False\n",
       "zane_d_wilson          False\n",
       "zygmunt_j_b_plater     False\n",
       "Name: gender, Length: 7615, dtype: object"
      ]
     },
     "execution_count": 384,
     "metadata": {},
     "output_type": "execute_result"
    }
   ],
   "source": [
    "is_m[is_m == is_f]"
   ]
  },
  {
   "cell_type": "code",
   "execution_count": 380,
   "metadata": {},
   "outputs": [
    {
     "data": {
      "text/plain": [
       "(613, 609, 0.8160968813631979)"
      ]
     },
     "execution_count": 380,
     "metadata": {},
     "output_type": "execute_result"
    }
   ],
   "source": [
    "is_f.sum(), is_m.sum(), (is_m == is_f).mean()"
   ]
  },
  {
   "cell_type": "code",
   "execution_count": 376,
   "metadata": {},
   "outputs": [
    {
     "data": {
      "text/html": [
       "<div>\n",
       "<style scoped>\n",
       "    .dataframe tbody tr th:only-of-type {\n",
       "        vertical-align: middle;\n",
       "    }\n",
       "\n",
       "    .dataframe tbody tr th {\n",
       "        vertical-align: top;\n",
       "    }\n",
       "\n",
       "    .dataframe thead th {\n",
       "        text-align: right;\n",
       "    }\n",
       "</style>\n",
       "<table border=\"1\" class=\"dataframe\">\n",
       "  <thead>\n",
       "    <tr style=\"text-align: right;\">\n",
       "      <th></th>\n",
       "      <th>advocate_id</th>\n",
       "      <th>gender</th>\n",
       "    </tr>\n",
       "  </thead>\n",
       "  <tbody>\n",
       "    <tr>\n",
       "      <th>0</th>\n",
       "      <td></td>\n",
       "      <td>True</td>\n",
       "    </tr>\n",
       "    <tr>\n",
       "      <th>11</th>\n",
       "      <td>a_donald_mackinnon</td>\n",
       "      <td>True</td>\n",
       "    </tr>\n",
       "    <tr>\n",
       "      <th>37</th>\n",
       "      <td>a_w_sorelle_iii</td>\n",
       "      <td>True</td>\n",
       "    </tr>\n",
       "    <tr>\n",
       "      <th>71</th>\n",
       "      <td>adam_yarmolinsky</td>\n",
       "      <td>True</td>\n",
       "    </tr>\n",
       "    <tr>\n",
       "      <th>72</th>\n",
       "      <td>addison_lane_mcgovern</td>\n",
       "      <td>True</td>\n",
       "    </tr>\n",
       "    <tr>\n",
       "      <th>...</th>\n",
       "      <td>...</td>\n",
       "      <td>...</td>\n",
       "    </tr>\n",
       "    <tr>\n",
       "      <th>9289</th>\n",
       "      <td>william_w_porter</td>\n",
       "      <td>True</td>\n",
       "    </tr>\n",
       "    <tr>\n",
       "      <th>9312</th>\n",
       "      <td>wm_e_lamoreaux</td>\n",
       "      <td>True</td>\n",
       "    </tr>\n",
       "    <tr>\n",
       "      <th>9316</th>\n",
       "      <td>wood_brown_iii</td>\n",
       "      <td>True</td>\n",
       "    </tr>\n",
       "    <tr>\n",
       "      <th>9323</th>\n",
       "      <td>yvette_hall_war_bonnett</td>\n",
       "      <td>True</td>\n",
       "    </tr>\n",
       "    <tr>\n",
       "      <th>9329</th>\n",
       "      <td>zona_f_hostetler</td>\n",
       "      <td>True</td>\n",
       "    </tr>\n",
       "  </tbody>\n",
       "</table>\n",
       "<p>1039 rows × 2 columns</p>\n",
       "</div>"
      ],
      "text/plain": [
       "                  advocate_id  gender\n",
       "0                                True\n",
       "11         a_donald_mackinnon    True\n",
       "37            a_w_sorelle_iii    True\n",
       "71           adam_yarmolinsky    True\n",
       "72      addison_lane_mcgovern    True\n",
       "...                       ...     ...\n",
       "9289         william_w_porter    True\n",
       "9312           wm_e_lamoreaux    True\n",
       "9316           wood_brown_iii    True\n",
       "9323  yvette_hall_war_bonnett    True\n",
       "9329         zona_f_hostetler    True\n",
       "\n",
       "[1039 rows x 2 columns]"
      ]
     },
     "execution_count": 376,
     "metadata": {},
     "output_type": "execute_result"
    }
   ],
   "source": [
    "x=(is_m != is_f).to_frame().reset_index()\n",
    "x=x[x.gender]\n",
    "x=x[~x.advocate_id.str.contains('jr')]\n",
    "x"
   ]
  },
  {
   "cell_type": "code",
   "execution_count": 359,
   "metadata": {},
   "outputs": [
    {
     "data": {
      "text/plain": [
       "advocate_id\n",
       "                           NaN\n",
       "a_donald_mackinnon         NaN\n",
       "a_felton_jenkins_jr        NaN\n",
       "a_p_carlton_jr             NaN\n",
       "a_raymond_randolph_jr      NaN\n",
       "                          ... \n",
       "woodrow_m_melvin_jr        NaN\n",
       "wray_g_zelt_jr             NaN\n",
       "yvette_hall_war_bonnett    NaN\n",
       "z_t_osborn_jr              NaN\n",
       "zona_f_hostetler           NaN\n",
       "Name: gender, Length: 1716, dtype: object"
      ]
     },
     "execution_count": 359,
     "metadata": {},
     "output_type": "execute_result"
    }
   ],
   "source": [
    "is_m[is_m != is_f]"
   ]
  },
  {
   "cell_type": "code",
   "execution_count": 350,
   "metadata": {},
   "outputs": [
    {
     "data": {
      "text/plain": [
       "0.8160968813631979"
      ]
     },
     "execution_count": 350,
     "metadata": {},
     "output_type": "execute_result"
    }
   ],
   "source": [
    "(is_m == is_f).mean()"
   ]
  }
 ],
 "metadata": {
  "kernelspec": {
   "display_name": "Python 3 (ipykernel)",
   "language": "python",
   "name": "python3"
  },
  "language_info": {
   "codemirror_mode": {
    "name": "ipython",
    "version": 3
   },
   "file_extension": ".py",
   "mimetype": "text/x-python",
   "name": "python",
   "nbconvert_exporter": "python",
   "pygments_lexer": "ipython3",
   "version": "3.9.12"
  }
 },
 "nbformat": 4,
 "nbformat_minor": 2
}

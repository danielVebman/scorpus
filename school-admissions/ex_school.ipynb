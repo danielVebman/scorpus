{
 "cells": [
  {
   "attachments": {},
   "cell_type": "markdown",
   "metadata": {},
   "source": [
    "# Example 1: School Admissions"
   ]
  },
  {
   "attachments": {},
   "cell_type": "markdown",
   "metadata": {},
   "source": [
    "## Generate data"
   ]
  },
  {
   "attachments": {},
   "cell_type": "markdown",
   "metadata": {},
   "source": [
    "An admissions officer decides if to admit a student depending on his or her race, sex, and test score. \n",
    "Their choice $Y=1|X$ is characterized by the decision rule\n",
    "$$Y = 1\\{ \\sigma(-2X_1 + X_2 + X_3/5 - 2.2) \\geq .5 \\}$$\n",
    "where $X_1 \\sim Bernoulli(.5)$ and $X_2 \\sim Bernoulli(.3)$ and $X_3 \\sim A + E$, where innate ability $A \\sim N(6,1)$ and study effort $E \\sim N(1,1)$, and $X_3$ is clamped to $[0, 10]$. \n",
    "\n",
    "Students self-report if they were admitted. However, they only respond to the survey if $Z=1|X,E$, where\n",
    "$$Z = 1\\{ \\sigma(X_1 + 3X_2 + X_3/8 + E - 3.5) \\geq .5 \\}$$\n",
    "\n",
    "We want to estimate the admissions officer's reliance on $X_1,X_2,X_3$. \n",
    "To do so, we must estimate $P(Y=1|X)$, but the missing data problem (with confounding due to $E$) only partially identifies this estimand."
   ]
  },
  {
   "cell_type": "code",
   "execution_count": 1,
   "metadata": {},
   "outputs": [
    {
     "name": "stdout",
     "output_type": "stream",
     "text": [
      "Self-reported acceptance rate: 0.14\n",
      "Number of responses: 8287 / 10000\n"
     ]
    }
   ],
   "source": [
    "import numpy as np\n",
    "\n",
    "def gen_data(n):\n",
    "  logistic = lambda x: 1 / (1 + np.exp(-x))\n",
    "\n",
    "  X1 = np.random.binomial(1, .5, n)\n",
    "  X2 = np.random.binomial(1, .3, n)\n",
    "  A = np.random.normal(6, 1, n)\n",
    "  E = np.random.normal(1, 1, n)\n",
    "  X3 = (A + E).clip(0,10)\n",
    "  Y = logistic(-2*X1 + X2 + X3/5 - 2.2) >= .5\n",
    "  Z = logistic(X1 + 3*X2 + X3/8 + E - 1.5) >= .5\n",
    "  X = np.vstack((X1,X2,X3)).T\n",
    "  return (Y, X, Z)\n",
    "\n",
    "fullN = 10000  # 10000 students applied\n",
    "fullY, fullX, fullZ = gen_data(fullN)\n",
    "Y, X, EZ = fullY[fullZ], fullX[fullZ], fullZ.mean()\n",
    "print('Self-reported acceptance rate:', Y.mean().round(2))\n",
    "print('Number of responses: %d / %d' % (len(Y), fullN))"
   ]
  },
  {
   "attachments": {},
   "cell_type": "markdown",
   "metadata": {},
   "source": [
    "## Bound $g(x) = E[Y|X]$"
   ]
  },
  {
   "attachments": {},
   "cell_type": "markdown",
   "metadata": {},
   "source": [
    "By the law of iterated expectation\n",
    "$$E[Y|X] = E[ E[Y|X,Z] | Z] = E[Y|X,Z=1]P(Z=1) + E[Y|X,Z=0]P(Z=0)$$\n",
    "We only observe $Y,X$ when $Z=1$ and we have $E[Z]$, so our identification result is\n",
    "$$E[Y|X] \\in [ E[Y|X,Z=1]P(Z=1) , \\,\\, E[Y|X,Z=1]P(Z=1) + P(Z=0) ]$$\n",
    "Larger $P(Z=1)$ implies a smaller interval. The interval is just a point when $P(Z=1) = 1$."
   ]
  },
  {
   "attachments": {},
   "cell_type": "markdown",
   "metadata": {},
   "source": [
    "Estimate $g_1(x) = E[Y|X,Z=1]$ by logistic regression of the observed $Y$ on $X$."
   ]
  },
  {
   "cell_type": "code",
   "execution_count": 2,
   "metadata": {},
   "outputs": [
    {
     "name": "stdout",
     "output_type": "stream",
     "text": [
      "Logistic regression accuracy: 0.998069265114034\n"
     ]
    }
   ],
   "source": [
    "from sklearn.linear_model import LogisticRegression\n",
    "\n",
    "g1 = LogisticRegression().fit(X, Y).predict\n",
    "print('Logistic regression accuracy:', (g1(X) == Y).mean())"
   ]
  },
  {
   "attachments": {},
   "cell_type": "markdown",
   "metadata": {},
   "source": [
    "Define the lower and upper bounds for $g$, denoted $g_{min}$ and $g_{max}$.\n",
    "<!-- If $E[Z] > .5$ then\n",
    "$g_1(x) = 1$ implies $g_{min}(x) = 1$ and $g_{max}(x) = 1$;\n",
    "$g_1(x) = 0$ implies $g_{min}(x) = 0$ and $g_{max}(x) = 0$;\n",
    "so $g_{min} = g_{max} = g_1$.\n",
    "\n",
    "If $E[Z] \\leq .5$ then\n",
    "$g_1(x) = 1$ implies $g_{min}(x) = 0$ and $g_{max}(x) = 1$;\n",
    "$g_1(x) = 0$ implies $g_{min}(x) = 0$ and $g_{max}(x) = 1$;\n",
    "so $g_{min} = 0$ and $g_{max} = 0$ regardless of $g_1$. -->"
   ]
  },
  {
   "cell_type": "code",
   "execution_count": 3,
   "metadata": {},
   "outputs": [],
   "source": [
    "g_min = lambda x: g1(x) * EZ\n",
    "g_max = lambda x: g1(x) * EZ + (1 - EZ)"
   ]
  },
  {
   "attachments": {},
   "cell_type": "markdown",
   "metadata": {},
   "source": [
    "## Examples"
   ]
  },
  {
   "attachments": {},
   "cell_type": "markdown",
   "metadata": {},
   "source": [
    "Bounds on admission for white men given test scores. \n",
    "This object is $E[Y|X_1=1, X_2=1, X_3]$."
   ]
  },
  {
   "cell_type": "code",
   "execution_count": 35,
   "metadata": {},
   "outputs": [
    {
     "data": {
      "image/png": "[encoded data removed]",
      "text/plain": [
       "<Figure size 800x550 with 1 Axes>"
      ]
     },
     "metadata": {},
     "output_type": "display_data"
    }
   ],
   "source": [
    "import matplotlib.pyplot as plt\n",
    "\n",
    "plt.style.use('seaborn')\n",
    "\n",
    "def plot_ex_1():\n",
    "  X3 = np.arange(9, 10, .01)\n",
    "  n = len(X3)\n",
    "  X = np.vstack((np.ones((2,n)), X3)).T\n",
    "  Yl, Yu = g_min(X), g_max(X)\n",
    "\n",
    "  fig = plt.figure()\n",
    "  ax = fig.add_subplot()\n",
    "  ax.plot(X3, Yl, label='Lower')\n",
    "  ax.plot(X3, Yu, label='Upper')\n",
    "  ax.set_title('Admission rate for white males')\n",
    "  ax.set_xlabel('Test score')\n",
    "  ax.set_ylabel('Admission rate')\n",
    "  ax.legend()\n",
    "plot_ex_1()"
   ]
  },
  {
   "attachments": {},
   "cell_type": "markdown",
   "metadata": {},
   "source": [
    "## Model reliance"
   ]
  },
  {
   "attachments": {},
   "cell_type": "markdown",
   "metadata": {},
   "source": [
    "Similar to (though not exactly as in) Fisher et al.,\n",
    "$$\\hat{e}_{orig} \\equiv \\frac{1}{n}\\sum_{i=1}^n L(y_i, g(x_i))$$\n",
    "where $g(x) = E[Y|X=x]$ is unknown.\n",
    "\n",
    "We can derive the very conservative bounds $\\hat{e}_{orig} \\in [\\hat{e}_{orig}^-, \\hat{e}_{orig}^+]$ given by\n",
    "$$\\hat{e}_{orig}^- \\equiv \\frac{1}{n} \\sum_{i=1}^n \\min\\{ L(y_i, g_{min}(x_i)), \\,\\, L(y_i, g_{max}(x_i)) \\}$$\n",
    "and $\\hat{e}_{orig}^+$ by replacing $\\min$ with $\\max$."
   ]
  },
  {
   "cell_type": "code",
   "execution_count": 4,
   "metadata": {},
   "outputs": [
    {
     "name": "stdout",
     "output_type": "stream",
     "text": [
      "e_orig in: [0.002, 0.031]\n"
     ]
    }
   ],
   "source": [
    "loss = lambda Y, Ypred: (Y - Ypred) ** 2\n",
    "e_orig_min = np.vstack( (loss(Y, g_min(X)), loss(Y, g_max(X)) )).min(axis=0).mean()\n",
    "e_orig_max = np.vstack( (loss(Y, g_min(X)), loss(Y, g_max(X)) )).max(axis=0).mean()\n",
    "print('e_orig in: [%.3f, %.3f]' % (e_orig_min, e_orig_max))"
   ]
  },
  {
   "attachments": {},
   "cell_type": "markdown",
   "metadata": {},
   "source": [
    "Similar to (though not exactly as in) Fisher et al.,\n",
    "$$\\hat{e}_{switch} = \\frac{1}{n(n-1)} \\sum_{i=1}^n \\sum_{j \\ne i} L( y_j, g(w_{1[i]}, w_{2[j]}) )$$\n",
    "where we are computing the model reliance on the subset $W_1$ of the covariates, and $W_2$ is the rest of the covariates. \n",
    "In this shuffling, we take each pair of rows $i \\ne j$ and replace the covariates $w_{2[j]}$ with the values in $w_{1[i]}$. \n",
    "Thus, the marginal distribution of $W_1$ is the same, but $W_1$ is independent of $W_2$ and $Y$.\n",
    "(Note: I slightly abuse notation for $g$ here.)\n",
    "\n",
    "For a given partition, we derive the very conservative bounds $\\hat{e}_{switch} \\in [\\hat{e}_{switch}^-, \\hat{e}_{switch}^+]$ given by\n",
    "$$\\hat{e}_{switch}^- = \\frac{1}{n(n-1)} \\sum_{i=1}^n \\sum_{j \\ne i} \\min\\{ L( y_j, g_{min}(w_{1[i]}, w_{2[j]}) ), \\,\\, L( y_j, g_{max}(w_{1[i]}, w_{2[j]}) ) \\}$$\n",
    "and $\\hat{e}_{switch}^+$ by replacing $\\min$ with $\\max$.\n",
    "\n",
    "Compute the point-identified model reliance using Fisher's eq (3.4) because the sample is very large.\n",
    "\n",
    "In the code below, I evaluate model reliance for the partitions\n",
    " 1. $W_1 = (X_1), W_2 = (X_2, X_3)$\n",
    " 2. $W_1 = (X_2), W_2 = (X_1, X_3)$\n",
    " 3. $W_1 = (X_3), W_2 = (X_1, X_2)$"
   ]
  },
  {
   "attachments": {},
   "cell_type": "markdown",
   "metadata": {},
   "source": [
    "Does $\\hat{e}_{switch}^-$ and $\\hat{e}_{switch}^+$ need to be weighed to take into account that it is only a subset of the data?\n",
    "For example, the *actual* lower bound is $\\hat{e}_{switch}^- * E[Z]$ and upper bound is $\\hat{e}_{switch}^- * E[Z] + (1 - E[Z])$?\n",
    "Also, for intra-distribution comparisons, you don't need to subtract $\\hat{e}_{orig}$."
   ]
  },
  {
   "cell_type": "code",
   "execution_count": 37,
   "metadata": {},
   "outputs": [],
   "source": [
    "import shuffle\n",
    "\n",
    "def e_switch_range(col):\n",
    "  \"\"\"\n",
    "  The min/max of e_switch when shuffling on [col].\n",
    "  \"\"\"\n",
    "  arr_to_shuffle = np.hstack((X, Y.reshape(len(Y),1)))  # we have to keep track of Y along with X in the shuffle\n",
    "  arr_shuffled = shuffle.switch(arr_to_shuffle, col)    # shuffled (X, Y)\n",
    "  Xs = arr_shuffled[:,:-1]                              # all but last columns are X\n",
    "  Ys = arr_shuffled[:,-1]                               # last column is Y\n",
    "  g_min_Xs, g_max_Xs = g_min(Xs), g_max(Xs)\n",
    "  losses = np.vstack( (loss(Ys, g_min_Xs), loss(Ys, g_max_Xs) ))\n",
    "  e_switch_min = losses.min(axis=0).mean()\n",
    "  e_switch_max = losses.max(axis=0).mean()\n",
    "  # return (e_switch_min * EZ, e_switch_max * EZ + (1 - EZ))\n",
    "  return (e_switch_min, e_switch_max)\n",
    "\n",
    "mr_range = e_switch_range\n",
    "# def mr_range(col):\n",
    "#   e_switch_min, e_switch_max = e_switch_range(col)\n",
    "#   return (e_switch_min - e_orig_max, e_switch_max - e_orig_min)"
   ]
  },
  {
   "cell_type": "code",
   "execution_count": 38,
   "metadata": {},
   "outputs": [],
   "source": [
    "# use fullX and fullY, so there's no missing data problem and the counterfactual probabilities are point identified\n",
    "g = lambda x: LogisticRegression().fit(fullX, fullY).predict(x) + 0\n",
    "e_orig_pt = loss(fullY, g(fullX)).mean()\n",
    "\n",
    "def e_switch_point(col):\n",
    "  arr_to_shuffle = np.hstack((fullX, fullY.reshape(len(fullY),1)))  # we have to keep track of Y along with X in the shuffle\n",
    "  arr_shuffled = shuffle.switch(arr_to_shuffle, col)                # shuffled X\n",
    "  Xd = arr_shuffled[:,:-1]                                          # all but last columns are X\n",
    "  Yd = arr_shuffled[:,-1]                                           # last column is Y\n",
    "  e_switch = loss(Yd, g(Xd)).mean()\n",
    "  return e_switch\n",
    "\n",
    "mr_point = e_switch_point\n",
    "# def mr_point(col):\n",
    "#   return e_switch_point(col) - e_orig_pt"
   ]
  },
  {
   "cell_type": "code",
   "execution_count": 39,
   "metadata": {},
   "outputs": [],
   "source": [
    "def e_switch_point_observed(col): # for Z = 1\n",
    "  arr_to_shuffle = np.hstack((X, Y.reshape(len(Y),1)))  # we have to keep track of Y along with X in the shuffle\n",
    "  arr_shuffled = shuffle.switch(arr_to_shuffle, col)    # shuffled X\n",
    "  Xd = arr_shuffled[:,:-1]                              # all but last columns are X\n",
    "  Yd = arr_shuffled[:,-1]                               # last column is Y\n",
    "  e_switch = loss(Yd, g(Xd)).mean()\n",
    "  return e_switch\n",
    "\n",
    "mr_point = e_switch_point_observed"
   ]
  },
  {
   "cell_type": "code",
   "execution_count": 40,
   "metadata": {},
   "outputs": [
    {
     "name": "stdout",
     "output_type": "stream",
     "text": [
      "MR on X1: [0.095, 0.165]\n",
      "  point value: 0.139\n",
      "MR on X2: [0.120, 0.202]\n",
      "  point value: 0.177\n",
      "MR on X3: [0.039, 0.086]\n",
      "  point value: 0.057\n"
     ]
    }
   ],
   "source": [
    "from matplotlib.pyplot import yticks\n",
    "\n",
    "results = []  # [['baseline', mr_min, mr_max, mr_pt]]\n",
    "for col in range(3):\n",
    "  mr_min, mr_max = mr_range(col)\n",
    "  mr_pt = mr_point(col)\n",
    "  results.append(['X' + str(col + 1), mr_min, mr_max, mr_pt])\n",
    "  print('MR on X%d: [%.3f, %.3f]' % (col + 1, mr_min, mr_max))\n",
    "  print('  point value: %.3f' % mr_pt)"
   ]
  },
  {
   "cell_type": "code",
   "execution_count": 41,
   "metadata": {},
   "outputs": [
    {
     "data": {
      "image/png": "[encoded data removed]",
      "text/plain": [
       "<Figure size 800x550 with 1 Axes>"
      ]
     },
     "metadata": {},
     "output_type": "display_data"
    }
   ],
   "source": [
    "def plot_results_0():\n",
    "  fig = plt.figure()\n",
    "  ax = fig.add_subplot()\n",
    "  ticks = []\n",
    "\n",
    "  for col, (label, mr_min, mr_max, mr_pt) in enumerate(results):\n",
    "    color = 'C' + str(col)\n",
    "    ax.hlines(y=mr_pt, xmin=0, xmax=1, color=color, linestyle='--', label=label)\n",
    "    ax.fill_between([0,1], mr_min, mr_max, alpha=.3)\n",
    "    ticks += [mr_min, mr_pt, mr_max]\n",
    "  \n",
    "  yticks(ticks=ticks)\n",
    "  ax.get_xaxis().set_visible(False)\n",
    "  ax.set_ylabel('Model reliance')\n",
    "  ax.legend()\n",
    "\n",
    "def plot_results_1():\n",
    "  fig = plt.figure()\n",
    "  ax = fig.add_subplot()\n",
    "\n",
    "  for col, (label, mr_min, mr_max, mr_pt) in enumerate(results):\n",
    "    color = 'C' + str(col)\n",
    "    ax.bar(col, mr_max - mr_min, bottom=mr_min, color=color, label=label)\n",
    "    plt.axhline(xmin=col / 3, xmax=(col + 1) / 3, y=mr_pt, linewidth=1, color=\"black\")\n",
    "  \n",
    "  ax.set_title('Model Reliance Conditional on Z=1')\n",
    "  ax.get_xaxis().set_visible(False)\n",
    "  ax.set_ylabel('Model reliance')\n",
    "  ax.legend()\n",
    "\n",
    "plot_results_1()"
   ]
  }
 ],
 "metadata": {
  "kernelspec": {
   "display_name": "Python 3.9.1 64-bit",
   "language": "python",
   "name": "python3"
  },
  "language_info": {
   "codemirror_mode": {
    "name": "ipython",
    "version": 3
   },
   "file_extension": ".py",
   "mimetype": "text/x-python",
   "name": "python",
   "nbconvert_exporter": "python",
   "pygments_lexer": "ipython3",
   "version": "3.9.12"
  },
  "orig_nbformat": 4,
  "vscode": {
   "interpreter": {
    "hash": "aee8b7b246df8f9039afb4144a1f6fd8d2ca17a180786b69acc140d282b71a49"
   }
  }
 },
 "nbformat": 4,
 "nbformat_minor": 2
}

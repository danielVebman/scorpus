{
 "cells": [
  {
   "cell_type": "code",
   "execution_count": 1,
   "metadata": {},
   "outputs": [],
   "source": [
    "import json\n",
    "import numpy as np\n",
    "import pandas as pd"
   ]
  },
  {
   "cell_type": "code",
   "execution_count": 2,
   "metadata": {},
   "outputs": [],
   "source": [
    "all_utterances = pd.read_csv('utterances.csv').set_index('id')"
   ]
  },
  {
   "cell_type": "code",
   "execution_count": 3,
   "metadata": {},
   "outputs": [],
   "source": [
    "all_advocates = pd.read_excel('advocates.xlsx').set_index('id')"
   ]
  },
  {
   "cell_type": "code",
   "execution_count": 4,
   "metadata": {},
   "outputs": [],
   "source": [
    "all_convos = pd.read_excel('all_convos.xlsx').set_index('id')\n",
    "all_convos['meta.advocates'] = all_convos['meta.advocates'].apply(eval)"
   ]
  },
  {
   "cell_type": "markdown",
   "metadata": {},
   "source": [
    "## Chunks"
   ]
  },
  {
   "cell_type": "code",
   "execution_count": 246,
   "metadata": {},
   "outputs": [],
   "source": [
    "def get_chunks_from_utterances(convo_id, convo_utts):\n",
    "  chunks = []\n",
    "  \n",
    "  chunk_no = 0\n",
    "  chunk_start = 0\n",
    "  \n",
    "  cur_chunk = []\n",
    "  cur_advocate = None\n",
    "  cur_justice = None\n",
    "\n",
    "  while chunk_start < len(convo_utts):\n",
    "    # greedily extract chunk\n",
    "    speaker = convo_utts.iloc[chunk_start]['speaker']\n",
    "    speaker_type = convo_utts.iloc[chunk_start]['meta.speaker_type']\n",
    "    \n",
    "    if speaker_type != 'A':\n",
    "      # chunks should begin with an advocate speaking\n",
    "      chunk_start += 1\n",
    "      continue\n",
    "    \n",
    "    # otherwise, begin a new chunk\n",
    "    cur_advocate = speaker\n",
    "\n",
    "    chunk_end = chunk_start\n",
    "    while chunk_end < len(convo_utts):\n",
    "      utt_id = convo_utts.utterance_id[chunk_end]\n",
    "      \n",
    "      speaker2 = convo_utts.iloc[chunk_end]['speaker']\n",
    "      speaker2_type = convo_utts.iloc[chunk_end]['meta.speaker_type']\n",
    "\n",
    "      if speaker2_type not in ['A', 'J']:\n",
    "        # ex. <INAUDIBLE>\n",
    "        break\n",
    "      elif speaker2_type == 'A' and speaker2 != cur_advocate:\n",
    "        # chunks should have only 1 advocate\n",
    "        break\n",
    "      elif speaker2_type == 'J' and speaker2 != cur_justice:\n",
    "        if cur_justice is not None:\n",
    "          # chunks should have only 1 justice\n",
    "          break\n",
    "        else:\n",
    "          # this is the first time we've encountered a new justice\n",
    "          cur_justice = speaker2\n",
    "\n",
    "      cur_chunk.append(utt_id)\n",
    "      chunk_end += 1\n",
    "    \n",
    "    if len(cur_chunk) >= 4 and cur_advocate is not None and cur_justice is not None:\n",
    "      # chunks must have at least 4 utterances\n",
    "      chunk_df = pd.DataFrame(dict(\n",
    "        conversation_id=convo_id,\n",
    "        chunk_no=chunk_no,\n",
    "        utterance_id=cur_chunk,\n",
    "        advocate_id=cur_advocate,\n",
    "        justice_id=cur_justice\n",
    "      ))\n",
    "\n",
    "      merged = chunk_df.merge(convo_utts, on='utterance_id')\n",
    "      chunk_df['speaker_type'] = merged['meta.speaker_type']\n",
    "      chunk_df['interrupted'] = merged.text.str[-2:].isin(['..', '--'])\n",
    "      # a token is matched by the following regex, which matches words (allowing apostrophes) and floating point numbers.\n",
    "      chunk_df['n_tokens'] = merged.text.str.count(r\"([A-Za-z]+('[A-Za-z]+)?)|([-]?([0-9]*[.])?[0-9]+)\")\n",
    "\n",
    "      chunks.append(chunk_df)\n",
    "      # allow the next chunk to start using the end of this chunk\n",
    "      chunk_start = chunk_end - 1 \n",
    "      chunk_no += 1\n",
    "    else:\n",
    "      # try to start a chunk at the next utterance\n",
    "      chunk_start += 1\n",
    "    \n",
    "    cur_chunk = []\n",
    "    cur_advocate = None\n",
    "    cur_justice = None\n",
    "  \n",
    "  if len(chunks) > 0:\n",
    "    return pd.concat(chunks)\n",
    "  else:\n",
    "    return None"
   ]
  },
  {
   "cell_type": "code",
   "execution_count": 253,
   "metadata": {},
   "outputs": [
    {
     "name": "stdout",
     "output_type": "stream",
     "text": [
      "Done.\n"
     ]
    }
   ],
   "source": [
    "from IPython.display import clear_output\n",
    "dfs = []\n",
    "i = 0\n",
    "is_convo_post_1982 = all_convos['meta.case_id'].apply(lambda id: int(id.split('_')[0])) >= 1982\n",
    "\n",
    "for convo_id in all_convos[is_convo_post_1982].index:\n",
    "  if i % 100 == 0:\n",
    "    clear_output()\n",
    "    print(i, '/', is_convo_post_1982.sum())\n",
    "  i += 1\n",
    "  convo_utts = all_utterances.query('conversation_id == @convo_id') \\\n",
    "    .reset_index() \\\n",
    "    .rename(columns={'id': 'utterance_id'})\n",
    "  if (chunks := get_chunks_from_utterances(convo_id, convo_utts)) is not None:\n",
    "    dfs.append(chunks)\n",
    "\n",
    "clear_output()\n",
    "print('Done.')\n",
    "\n",
    "chunks = pd.concat(dfs)"
   ]
  },
  {
   "cell_type": "code",
   "execution_count": 254,
   "metadata": {},
   "outputs": [],
   "source": [
    "chunks.to_csv('/flatfiles/chunks_v2.csv')"
   ]
  },
  {
   "cell_type": "code",
   "execution_count": 256,
   "metadata": {},
   "outputs": [
    {
     "data": {
      "text/html": [
       "<div>\n",
       "<style scoped>\n",
       "    .dataframe tbody tr th:only-of-type {\n",
       "        vertical-align: middle;\n",
       "    }\n",
       "\n",
       "    .dataframe tbody tr th {\n",
       "        vertical-align: top;\n",
       "    }\n",
       "\n",
       "    .dataframe thead th {\n",
       "        text-align: right;\n",
       "    }\n",
       "</style>\n",
       "<table border=\"1\" class=\"dataframe\">\n",
       "  <thead>\n",
       "    <tr style=\"text-align: right;\">\n",
       "      <th></th>\n",
       "      <th>conversation_id</th>\n",
       "      <th>chunk_no</th>\n",
       "      <th>utterance_id</th>\n",
       "      <th>advocate_id</th>\n",
       "      <th>justice_id</th>\n",
       "      <th>speaker_type</th>\n",
       "      <th>interrupted</th>\n",
       "      <th>n_tokens</th>\n",
       "    </tr>\n",
       "  </thead>\n",
       "  <tbody>\n",
       "    <tr>\n",
       "      <th>0</th>\n",
       "      <td>18242</td>\n",
       "      <td>0</td>\n",
       "      <td>18242__0_003</td>\n",
       "      <td>alan_g_segedy</td>\n",
       "      <td>j__sandra_day_oconnor</td>\n",
       "      <td>A</td>\n",
       "      <td>True</td>\n",
       "      <td>518</td>\n",
       "    </tr>\n",
       "    <tr>\n",
       "      <th>1</th>\n",
       "      <td>18242</td>\n",
       "      <td>0</td>\n",
       "      <td>18242__0_004</td>\n",
       "      <td>alan_g_segedy</td>\n",
       "      <td>j__sandra_day_oconnor</td>\n",
       "      <td>J</td>\n",
       "      <td>False</td>\n",
       "      <td>19</td>\n",
       "    </tr>\n",
       "    <tr>\n",
       "      <th>2</th>\n",
       "      <td>18242</td>\n",
       "      <td>0</td>\n",
       "      <td>18242__0_005</td>\n",
       "      <td>alan_g_segedy</td>\n",
       "      <td>j__sandra_day_oconnor</td>\n",
       "      <td>A</td>\n",
       "      <td>False</td>\n",
       "      <td>4</td>\n",
       "    </tr>\n",
       "    <tr>\n",
       "      <th>3</th>\n",
       "      <td>18242</td>\n",
       "      <td>0</td>\n",
       "      <td>18242__0_006</td>\n",
       "      <td>alan_g_segedy</td>\n",
       "      <td>j__sandra_day_oconnor</td>\n",
       "      <td>J</td>\n",
       "      <td>False</td>\n",
       "      <td>3</td>\n",
       "    </tr>\n",
       "    <tr>\n",
       "      <th>4</th>\n",
       "      <td>18242</td>\n",
       "      <td>0</td>\n",
       "      <td>18242__0_007</td>\n",
       "      <td>alan_g_segedy</td>\n",
       "      <td>j__sandra_day_oconnor</td>\n",
       "      <td>A</td>\n",
       "      <td>True</td>\n",
       "      <td>6</td>\n",
       "    </tr>\n",
       "    <tr>\n",
       "      <th>...</th>\n",
       "      <td>...</td>\n",
       "      <td>...</td>\n",
       "      <td>...</td>\n",
       "      <td>...</td>\n",
       "      <td>...</td>\n",
       "      <td>...</td>\n",
       "      <td>...</td>\n",
       "      <td>...</td>\n",
       "    </tr>\n",
       "    <tr>\n",
       "      <th>6</th>\n",
       "      <td>24969</td>\n",
       "      <td>17</td>\n",
       "      <td>24969__2_006</td>\n",
       "      <td>eric_j_feigin</td>\n",
       "      <td>j__sonia_sotomayor</td>\n",
       "      <td>A</td>\n",
       "      <td>False</td>\n",
       "      <td>3</td>\n",
       "    </tr>\n",
       "    <tr>\n",
       "      <th>7</th>\n",
       "      <td>24969</td>\n",
       "      <td>17</td>\n",
       "      <td>24969__2_007</td>\n",
       "      <td>eric_j_feigin</td>\n",
       "      <td>j__sonia_sotomayor</td>\n",
       "      <td>J</td>\n",
       "      <td>True</td>\n",
       "      <td>25</td>\n",
       "    </tr>\n",
       "    <tr>\n",
       "      <th>8</th>\n",
       "      <td>24969</td>\n",
       "      <td>17</td>\n",
       "      <td>24969__2_008</td>\n",
       "      <td>eric_j_feigin</td>\n",
       "      <td>j__sonia_sotomayor</td>\n",
       "      <td>A</td>\n",
       "      <td>True</td>\n",
       "      <td>3</td>\n",
       "    </tr>\n",
       "    <tr>\n",
       "      <th>9</th>\n",
       "      <td>24969</td>\n",
       "      <td>17</td>\n",
       "      <td>24969__2_009</td>\n",
       "      <td>eric_j_feigin</td>\n",
       "      <td>j__sonia_sotomayor</td>\n",
       "      <td>J</td>\n",
       "      <td>False</td>\n",
       "      <td>1</td>\n",
       "    </tr>\n",
       "    <tr>\n",
       "      <th>10</th>\n",
       "      <td>24969</td>\n",
       "      <td>17</td>\n",
       "      <td>24969__2_010</td>\n",
       "      <td>eric_j_feigin</td>\n",
       "      <td>j__sonia_sotomayor</td>\n",
       "      <td>A</td>\n",
       "      <td>False</td>\n",
       "      <td>86</td>\n",
       "    </tr>\n",
       "  </tbody>\n",
       "</table>\n",
       "<p>678371 rows × 8 columns</p>\n",
       "</div>"
      ],
      "text/plain": [
       "    conversation_id  chunk_no  utterance_id    advocate_id  \\\n",
       "0             18242         0  18242__0_003  alan_g_segedy   \n",
       "1             18242         0  18242__0_004  alan_g_segedy   \n",
       "2             18242         0  18242__0_005  alan_g_segedy   \n",
       "3             18242         0  18242__0_006  alan_g_segedy   \n",
       "4             18242         0  18242__0_007  alan_g_segedy   \n",
       "..              ...       ...           ...            ...   \n",
       "6             24969        17  24969__2_006  eric_j_feigin   \n",
       "7             24969        17  24969__2_007  eric_j_feigin   \n",
       "8             24969        17  24969__2_008  eric_j_feigin   \n",
       "9             24969        17  24969__2_009  eric_j_feigin   \n",
       "10            24969        17  24969__2_010  eric_j_feigin   \n",
       "\n",
       "               justice_id speaker_type  interrupted  n_tokens  \n",
       "0   j__sandra_day_oconnor            A         True       518  \n",
       "1   j__sandra_day_oconnor            J        False        19  \n",
       "2   j__sandra_day_oconnor            A        False         4  \n",
       "3   j__sandra_day_oconnor            J        False         3  \n",
       "4   j__sandra_day_oconnor            A         True         6  \n",
       "..                    ...          ...          ...       ...  \n",
       "6      j__sonia_sotomayor            A        False         3  \n",
       "7      j__sonia_sotomayor            J         True        25  \n",
       "8      j__sonia_sotomayor            A         True         3  \n",
       "9      j__sonia_sotomayor            J        False         1  \n",
       "10     j__sonia_sotomayor            A        False        86  \n",
       "\n",
       "[678371 rows x 8 columns]"
      ]
     },
     "execution_count": 256,
     "metadata": {},
     "output_type": "execute_result"
    }
   ],
   "source": [
    "chunks"
   ]
  },
  {
   "cell_type": "markdown",
   "metadata": {},
   "source": [
    "## Interruptions"
   ]
  },
  {
   "cell_type": "code",
   "execution_count": 258,
   "metadata": {},
   "outputs": [],
   "source": [
    "interruptions = chunks.query('speaker_type == \"A\"').groupby(['conversation_id', 'chunk_no', 'advocate_id', 'justice_id']).sum()"
   ]
  },
  {
   "cell_type": "code",
   "execution_count": 267,
   "metadata": {},
   "outputs": [],
   "source": [
    "interruption_rate = interruptions.interrupted / (interruptions.n_tokens / 1000)\n",
    "interruption_rate.name = 'interruption_rate'"
   ]
  },
  {
   "cell_type": "code",
   "execution_count": 268,
   "metadata": {},
   "outputs": [],
   "source": [
    "interruption_rate.reset_index().to_csv('flatfiles/interruptions.csv', header=True, index=False)"
   ]
  },
  {
   "cell_type": "markdown",
   "metadata": {},
   "source": [
    "## Genders"
   ]
  },
  {
   "cell_type": "code",
   "execution_count": 299,
   "metadata": {},
   "outputs": [],
   "source": [
    "from nameparser import HumanName\n",
    "\n",
    "advocate_names = all_advocates.rename(columns={'meta.name': 'name'})[['name']]\n",
    "advocate_names['lastname'] = advocate_names['name'].apply(lambda n: HumanName(n).last)\n",
    "advocate_names['male_honorific'] = 'Mr. ' + advocate_names['lastname']\n",
    "advocate_names['female_honorific'] = 'Ms. ' + advocate_names['lastname']"
   ]
  },
  {
   "cell_type": "code",
   "execution_count": 300,
   "metadata": {},
   "outputs": [],
   "source": [
    "is_convo_post_1982 = all_convos['meta.case_id'].apply(lambda id: int(id.split('_')[0])) >= 1982"
   ]
  },
  {
   "cell_type": "code",
   "execution_count": 301,
   "metadata": {},
   "outputs": [],
   "source": [
    "advocates_per_convo = all_convos.loc[is_convo_post_1982, 'meta.advocates'].apply(lambda a: a.keys()) \\\n",
    "  .explode() \\\n",
    "  .replace('', None) \\\n",
    "  .dropna() \\\n",
    "  .reset_index() \\\n",
    "  .rename(columns={'id': 'conversation_id', 'meta.advocates': 'advocate_id'})"
   ]
  },
  {
   "cell_type": "code",
   "execution_count": 302,
   "metadata": {},
   "outputs": [],
   "source": [
    "honorific_utt = all_utterances[all_utterances.speaker.str.contains('j__')].copy().set_index('conversation_id')['text'].str.findall(r'(Mr. \\w+|Ms. \\w+)')\n",
    "honorific_utt.name = 'j_honorifics_uttered'"
   ]
  },
  {
   "cell_type": "code",
   "execution_count": 303,
   "metadata": {},
   "outputs": [],
   "source": [
    "# left merge??\n",
    "honorifics_uttered = advocates_per_convo.merge(honorific_utt.groupby(level=0).sum().reset_index(), on='conversation_id') \\\n",
    "  .groupby('advocate_id')['j_honorifics_uttered'].sum().apply(set)"
   ]
  },
  {
   "cell_type": "code",
   "execution_count": 304,
   "metadata": {},
   "outputs": [],
   "source": [
    "names_and_honorifics = advocate_names.join(honorifics_uttered)"
   ]
  },
  {
   "cell_type": "code",
   "execution_count": 307,
   "metadata": {},
   "outputs": [],
   "source": [
    "names_and_honorifics['matched_mr'] = names_and_honorifics.apply(\n",
    "  lambda a: a['male_honorific'] in a['j_honorifics_uttered'] \n",
    "    if type(a['j_honorifics_uttered']) == set else False, \n",
    "  axis=1\n",
    ")\n",
    "names_and_honorifics['matched_ms'] = names_and_honorifics.apply(\n",
    "  lambda a: a['female_honorific'] in a['j_honorifics_uttered']\n",
    "    if type(a['j_honorifics_uttered']) == set else False, \n",
    "  axis=1\n",
    ")"
   ]
  },
  {
   "cell_type": "code",
   "execution_count": 308,
   "metadata": {},
   "outputs": [],
   "source": [
    "one_honorific_matched = names_and_honorifics['matched_mr'] ^ names_and_honorifics['matched_ms']\n",
    "names_and_honorifics['gender'] = np.where(one_honorific_matched, names_and_honorifics['matched_ms'], None) # female = True, male = False"
   ]
  },
  {
   "cell_type": "code",
   "execution_count": 313,
   "metadata": {},
   "outputs": [
    {
     "data": {
      "text/plain": [
       "Index(['mary_s_burdick', 'lois_g_williams', 'joy_b_shearer', 'jane_r_wettach',\n",
       "       'constance_e_brooks', 'patricia_a_brannan', 'joel_w_sternman',\n",
       "       'penny_j_white', 'jerry_l_smith', 'carolou_perry_durham',\n",
       "       'maria_tankenson_hodge', 'bridget_r_steller', 'paul_m_smith',\n",
       "       'sally_l_wellman', 'gale_norton', 'carley_j_ingram',\n",
       "       'barbara_d_underwood', 'corbett_gordon', 'jon_laramore',\n",
       "       'allison_m_zieve', 'j_bart_delone', 'margie_j_phelps'],\n",
       "      dtype='object', name='id')"
      ]
     },
     "execution_count": 313,
     "metadata": {},
     "output_type": "execute_result"
    }
   ],
   "source": [
    "# manually resolve those that are both mr and ms\n",
    "names_and_honorifics.query('matched_mr & matched_ms').index"
   ]
  },
  {
   "cell_type": "code",
   "execution_count": 314,
   "metadata": {},
   "outputs": [],
   "source": [
    "names_and_honorifics.loc[[\n",
    "  'mary_s_burdick', \n",
    "  'lois_g_williams', \n",
    "  'joy_b_shearer', \n",
    "  'jane_r_wettach',\n",
    "  'constance_e_brooks', \n",
    "  'patricia_a_brannan', \n",
    "  'penny_j_white', \n",
    "  'carolou_perry_durham',\n",
    "  'maria_tankenson_hodge', \n",
    "  'bridget_r_steller', \n",
    "  'sally_l_wellman', \n",
    "  'gale_norton', \n",
    "  'carley_j_ingram',\n",
    "  'barbara_d_underwood', \n",
    "  'corbett_gordon', \n",
    "  'allison_m_zieve', \n",
    "  'margie_j_phelps'\n",
    "]] = True\n",
    "names_and_honorifics.loc[[\n",
    "  'joel_w_sternman',\n",
    "  'jerry_l_smith',\n",
    "  'paul_m_smith',\n",
    "  'jon_laramore'\n",
    "]] = False"
   ]
  },
  {
   "cell_type": "code",
   "execution_count": 316,
   "metadata": {},
   "outputs": [],
   "source": [
    "names_and_honorifics['gender'].to_csv('flatfiles/genders.csv')"
   ]
  },
  {
   "cell_type": "markdown",
   "metadata": {},
   "source": [
    "## Interruptions"
   ]
  },
  {
   "cell_type": "code",
   "execution_count": 321,
   "metadata": {},
   "outputs": [],
   "source": [
    "genders = pd.read_csv('flatfiles/genders.csv').rename(columns={'id': 'advocate_id'}).set_index('advocate_id').dropna()"
   ]
  },
  {
   "cell_type": "code",
   "execution_count": 327,
   "metadata": {},
   "outputs": [],
   "source": [
    "interruptions = interruption_rate.to_frame().join(genders)"
   ]
  },
  {
   "cell_type": "code",
   "execution_count": 349,
   "metadata": {},
   "outputs": [
    {
     "name": "stdout",
     "output_type": "stream",
     "text": [
      "1957 / 78360 chunks (167 / 4055 advocates corresponding to chunks) do not have a gender. Dropping.\n"
     ]
    }
   ],
   "source": [
    "n_advocates = len(interruptions.reset_index().advocate_id.unique())\n",
    "n_unmatched_advocates = len(interruptions[interruptions.gender.isna()].reset_index().advocate_id.unique())\n",
    "print(\n",
    "  f'{interruptions.gender.isna().sum()} / {len(interruptions)} chunks',\n",
    "  f'({n_unmatched_advocates} / {n_advocates} advocates corresponding to chunks) do not have a gender. Dropping.'\n",
    ")\n",
    "interruptions = interruptions.dropna()"
   ]
  },
  {
   "cell_type": "code",
   "execution_count": 401,
   "metadata": {},
   "outputs": [
    {
     "name": "stdout",
     "output_type": "stream",
     "text": [
      "Most frequent female advocates:\n"
     ]
    },
    {
     "data": {
      "text/plain": [
       "advocate_id\n",
       "lisa_s_blatt           253\n",
       "beth_s_brinkmann       248\n",
       "patricia_a_millett     245\n",
       "maureen_e_mahoney      172\n",
       "nicole_saharsky        161\n",
       "barbara_d_underwood    156\n",
       "deanne_e_maynard       137\n",
       "pamela_s_karlan        133\n",
       "sarah_e_harrington     129\n",
       "barbara_b_mcdowell     127\n",
       "kathleen_m_sullivan    116\n",
       "ann_oconnell           113\n",
       "amy_l_wax              110\n",
       "rachel_p_kovner         93\n",
       "leondra_r_kruger        84\n",
       "elaine_j_goldenberg     75\n",
       "kathryn_a_oberly        74\n",
       "ginger_d_anders         71\n",
       "katherine_p_baldwin     65\n",
       "danielle_spinelli       65\n",
       "Name: interruption_rate, dtype: int64"
      ]
     },
     "execution_count": 401,
     "metadata": {},
     "output_type": "execute_result"
    }
   ],
   "source": [
    "print('Most frequent female advocates:')\n",
    "interruptions.query('gender == True').groupby('advocate_id').interruption_rate.count().sort_values(ascending=False).head(20)"
   ]
  },
  {
   "cell_type": "code",
   "execution_count": 391,
   "metadata": {},
   "outputs": [
    {
     "data": {
      "image/png": "[encoded data removed]",
      "text/plain": [
       "<Figure size 720x576 with 1 Axes>"
      ]
     },
     "metadata": {
      "needs_background": "light"
     },
     "output_type": "display_data"
    }
   ],
   "source": [
    "import matplotlib.pyplot as plt\n",
    "from matplotlib.collections import LineCollection\n",
    "\n",
    "justice_interruption_rates = interruptions.groupby(['justice_id', 'gender']).interruption_rate.mean().unstack('gender').sort_index().dropna()\n",
    "\n",
    "fig, ax = plt.subplots()\n",
    "y_pos = np.arange(len(justice_interruption_rates))\n",
    "\n",
    "lines = []\n",
    "for i, j in enumerate(justice_interruption_rates.index):\n",
    "  y = y_pos[i]\n",
    "  xm = justice_interruption_rates.loc[j, False]\n",
    "  xf = justice_interruption_rates.loc[j, True]\n",
    "  plt.plot(xm, y, 'bo')\n",
    "  plt.plot(xf, y, 'ro')\n",
    "  lines.append([(xm, y), (xf, y)])\n",
    "  \n",
    "fig.set_size_inches(10, 8)\n",
    "ax.add_collection(LineCollection(lines, linewidths=2))\n",
    "ax.autoscale()\n",
    "\n",
    "ax.set_yticks(y_pos, labels=justice_interruption_rates.index)\n",
    "ax.invert_yaxis()\n",
    "ax.set_xlabel('Interruptions per 1000 words')\n",
    "ax.set_title('Justice interruption rates (male blue vs. female red)')\n",
    "\n",
    "plt.show()"
   ]
  }
 ],
 "metadata": {
  "kernelspec": {
   "display_name": "Python 3 (ipykernel)",
   "language": "python",
   "name": "python3"
  },
  "language_info": {
   "codemirror_mode": {
    "name": "ipython",
    "version": 3
   },
   "file_extension": ".py",
   "mimetype": "text/x-python",
   "name": "python",
   "nbconvert_exporter": "python",
   "pygments_lexer": "ipython3",
   "version": "3.9.12"
  }
 },
 "nbformat": 4,
 "nbformat_minor": 2
}

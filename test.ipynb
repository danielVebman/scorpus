{
 "cells": [
  {
   "cell_type": "code",
   "execution_count": 1,
   "metadata": {},
   "outputs": [],
   "source": [
    "import numpy as np\n",
    "import pandas as pd"
   ]
  },
  {
   "cell_type": "code",
   "execution_count": 2,
   "metadata": {},
   "outputs": [],
   "source": [
    "all_utterances = pd.read_csv('utterances.csv').set_index('id')"
   ]
  },
  {
   "cell_type": "code",
   "execution_count": 3,
   "metadata": {},
   "outputs": [],
   "source": [
    "all_advocates = pd.read_excel('advocates.xlsx').set_index('id')"
   ]
  },
  {
   "cell_type": "code",
   "execution_count": 34,
   "metadata": {},
   "outputs": [],
   "source": [
    "all_convos = pd.read_excel('all_convos.xlsx').set_index('id').dropna()\n",
    "all_convos['meta.advocates'] = all_convos['meta.advocates'].apply(eval)\n",
    "all_convos['meta.votes_side'] = all_convos['meta.votes_side'].apply(eval)"
   ]
  },
  {
   "cell_type": "markdown",
   "metadata": {},
   "source": [
    "## Chunks"
   ]
  },
  {
   "cell_type": "code",
   "execution_count": 246,
   "metadata": {},
   "outputs": [],
   "source": [
    "def get_chunks_from_utterances(convo_id, convo_utts):\n",
    "  chunks = []\n",
    "  \n",
    "  chunk_no = 0\n",
    "  chunk_start = 0\n",
    "  \n",
    "  cur_chunk = []\n",
    "  cur_advocate = None\n",
    "  cur_justice = None\n",
    "\n",
    "  while chunk_start < len(convo_utts):\n",
    "    # greedily extract chunk\n",
    "    speaker = convo_utts.iloc[chunk_start]['speaker']\n",
    "    speaker_type = convo_utts.iloc[chunk_start]['meta.speaker_type']\n",
    "    \n",
    "    if speaker_type != 'A':\n",
    "      # chunks should begin with an advocate speaking\n",
    "      chunk_start += 1\n",
    "      continue\n",
    "    \n",
    "    # otherwise, begin a new chunk\n",
    "    cur_advocate = speaker\n",
    "\n",
    "    chunk_end = chunk_start\n",
    "    while chunk_end < len(convo_utts):\n",
    "      utt_id = convo_utts.utterance_id[chunk_end]\n",
    "      \n",
    "      speaker2 = convo_utts.iloc[chunk_end]['speaker']\n",
    "      speaker2_type = convo_utts.iloc[chunk_end]['meta.speaker_type']\n",
    "\n",
    "      if speaker2_type not in ['A', 'J']:\n",
    "        # ex. <INAUDIBLE>\n",
    "        break\n",
    "      elif speaker2_type == 'A' and speaker2 != cur_advocate:\n",
    "        # chunks should have only 1 advocate\n",
    "        break\n",
    "      elif speaker2_type == 'J' and speaker2 != cur_justice:\n",
    "        if cur_justice is not None:\n",
    "          # chunks should have only 1 justice\n",
    "          break\n",
    "        else:\n",
    "          # this is the first time we've encountered a new justice\n",
    "          cur_justice = speaker2\n",
    "\n",
    "      cur_chunk.append(utt_id)\n",
    "      chunk_end += 1\n",
    "    \n",
    "    if len(cur_chunk) >= 4 and cur_advocate is not None and cur_justice is not None:\n",
    "      # chunks must have at least 4 utterances\n",
    "      chunk_df = pd.DataFrame(dict(\n",
    "        conversation_id=convo_id,\n",
    "        chunk_no=chunk_no,\n",
    "        utterance_id=cur_chunk,\n",
    "        advocate_id=cur_advocate,\n",
    "        justice_id=cur_justice\n",
    "      ))\n",
    "\n",
    "      merged = chunk_df.merge(convo_utts, on='utterance_id')\n",
    "      chunk_df['speaker_type'] = merged['meta.speaker_type']\n",
    "      chunk_df['interrupted'] = merged.text.str[-2:].isin(['..', '--'])\n",
    "      # a token is matched by the following regex, which matches words (allowing apostrophes) and floating point numbers.\n",
    "      chunk_df['n_tokens'] = merged.text.str.count(r\"([A-Za-z]+('[A-Za-z]+)?)|([-]?([0-9]*[.])?[0-9]+)\")\n",
    "\n",
    "      chunks.append(chunk_df)\n",
    "      # allow the next chunk to start using the end of this chunk\n",
    "      chunk_start = chunk_end - 1 \n",
    "      chunk_no += 1\n",
    "    else:\n",
    "      # try to start a chunk at the next utterance\n",
    "      chunk_start += 1\n",
    "    \n",
    "    cur_chunk = []\n",
    "    cur_advocate = None\n",
    "    cur_justice = None\n",
    "  \n",
    "  if len(chunks) > 0:\n",
    "    return pd.concat(chunks)\n",
    "  else:\n",
    "    return None"
   ]
  },
  {
   "cell_type": "code",
   "execution_count": 253,
   "metadata": {},
   "outputs": [
    {
     "name": "stdout",
     "output_type": "stream",
     "text": [
      "Done.\n"
     ]
    }
   ],
   "source": [
    "from IPython.display import clear_output\n",
    "dfs = []\n",
    "i = 0\n",
    "is_convo_post_1982 = all_convos['meta.case_id'].apply(lambda id: int(id.split('_')[0])) >= 1982\n",
    "\n",
    "for convo_id in all_convos[is_convo_post_1982].index:\n",
    "  if i % 100 == 0:\n",
    "    clear_output()\n",
    "    print(i, '/', is_convo_post_1982.sum())\n",
    "  i += 1\n",
    "  convo_utts = all_utterances.query('conversation_id == @convo_id') \\\n",
    "    .reset_index() \\\n",
    "    .rename(columns={'id': 'utterance_id'})\n",
    "  if (chunks := get_chunks_from_utterances(convo_id, convo_utts)) is not None:\n",
    "    dfs.append(chunks)\n",
    "\n",
    "clear_output()\n",
    "print('Done.')\n",
    "\n",
    "chunks = pd.concat(dfs)"
   ]
  },
  {
   "cell_type": "code",
   "execution_count": 254,
   "metadata": {},
   "outputs": [],
   "source": [
    "chunks.to_csv('/flatfiles/chunks_v2.csv')"
   ]
  },
  {
   "cell_type": "code",
   "execution_count": 256,
   "metadata": {},
   "outputs": [
    {
     "data": {
      "text/html": [
       "<div>\n",
       "<style scoped>\n",
       "    .dataframe tbody tr th:only-of-type {\n",
       "        vertical-align: middle;\n",
       "    }\n",
       "\n",
       "    .dataframe tbody tr th {\n",
       "        vertical-align: top;\n",
       "    }\n",
       "\n",
       "    .dataframe thead th {\n",
       "        text-align: right;\n",
       "    }\n",
       "</style>\n",
       "<table border=\"1\" class=\"dataframe\">\n",
       "  <thead>\n",
       "    <tr style=\"text-align: right;\">\n",
       "      <th></th>\n",
       "      <th>conversation_id</th>\n",
       "      <th>chunk_no</th>\n",
       "      <th>utterance_id</th>\n",
       "      <th>advocate_id</th>\n",
       "      <th>justice_id</th>\n",
       "      <th>speaker_type</th>\n",
       "      <th>interrupted</th>\n",
       "      <th>n_tokens</th>\n",
       "    </tr>\n",
       "  </thead>\n",
       "  <tbody>\n",
       "    <tr>\n",
       "      <th>0</th>\n",
       "      <td>18242</td>\n",
       "      <td>0</td>\n",
       "      <td>18242__0_003</td>\n",
       "      <td>alan_g_segedy</td>\n",
       "      <td>j__sandra_day_oconnor</td>\n",
       "      <td>A</td>\n",
       "      <td>True</td>\n",
       "      <td>518</td>\n",
       "    </tr>\n",
       "    <tr>\n",
       "      <th>1</th>\n",
       "      <td>18242</td>\n",
       "      <td>0</td>\n",
       "      <td>18242__0_004</td>\n",
       "      <td>alan_g_segedy</td>\n",
       "      <td>j__sandra_day_oconnor</td>\n",
       "      <td>J</td>\n",
       "      <td>False</td>\n",
       "      <td>19</td>\n",
       "    </tr>\n",
       "    <tr>\n",
       "      <th>2</th>\n",
       "      <td>18242</td>\n",
       "      <td>0</td>\n",
       "      <td>18242__0_005</td>\n",
       "      <td>alan_g_segedy</td>\n",
       "      <td>j__sandra_day_oconnor</td>\n",
       "      <td>A</td>\n",
       "      <td>False</td>\n",
       "      <td>4</td>\n",
       "    </tr>\n",
       "    <tr>\n",
       "      <th>3</th>\n",
       "      <td>18242</td>\n",
       "      <td>0</td>\n",
       "      <td>18242__0_006</td>\n",
       "      <td>alan_g_segedy</td>\n",
       "      <td>j__sandra_day_oconnor</td>\n",
       "      <td>J</td>\n",
       "      <td>False</td>\n",
       "      <td>3</td>\n",
       "    </tr>\n",
       "    <tr>\n",
       "      <th>4</th>\n",
       "      <td>18242</td>\n",
       "      <td>0</td>\n",
       "      <td>18242__0_007</td>\n",
       "      <td>alan_g_segedy</td>\n",
       "      <td>j__sandra_day_oconnor</td>\n",
       "      <td>A</td>\n",
       "      <td>True</td>\n",
       "      <td>6</td>\n",
       "    </tr>\n",
       "    <tr>\n",
       "      <th>...</th>\n",
       "      <td>...</td>\n",
       "      <td>...</td>\n",
       "      <td>...</td>\n",
       "      <td>...</td>\n",
       "      <td>...</td>\n",
       "      <td>...</td>\n",
       "      <td>...</td>\n",
       "      <td>...</td>\n",
       "    </tr>\n",
       "    <tr>\n",
       "      <th>6</th>\n",
       "      <td>24969</td>\n",
       "      <td>17</td>\n",
       "      <td>24969__2_006</td>\n",
       "      <td>eric_j_feigin</td>\n",
       "      <td>j__sonia_sotomayor</td>\n",
       "      <td>A</td>\n",
       "      <td>False</td>\n",
       "      <td>3</td>\n",
       "    </tr>\n",
       "    <tr>\n",
       "      <th>7</th>\n",
       "      <td>24969</td>\n",
       "      <td>17</td>\n",
       "      <td>24969__2_007</td>\n",
       "      <td>eric_j_feigin</td>\n",
       "      <td>j__sonia_sotomayor</td>\n",
       "      <td>J</td>\n",
       "      <td>True</td>\n",
       "      <td>25</td>\n",
       "    </tr>\n",
       "    <tr>\n",
       "      <th>8</th>\n",
       "      <td>24969</td>\n",
       "      <td>17</td>\n",
       "      <td>24969__2_008</td>\n",
       "      <td>eric_j_feigin</td>\n",
       "      <td>j__sonia_sotomayor</td>\n",
       "      <td>A</td>\n",
       "      <td>True</td>\n",
       "      <td>3</td>\n",
       "    </tr>\n",
       "    <tr>\n",
       "      <th>9</th>\n",
       "      <td>24969</td>\n",
       "      <td>17</td>\n",
       "      <td>24969__2_009</td>\n",
       "      <td>eric_j_feigin</td>\n",
       "      <td>j__sonia_sotomayor</td>\n",
       "      <td>J</td>\n",
       "      <td>False</td>\n",
       "      <td>1</td>\n",
       "    </tr>\n",
       "    <tr>\n",
       "      <th>10</th>\n",
       "      <td>24969</td>\n",
       "      <td>17</td>\n",
       "      <td>24969__2_010</td>\n",
       "      <td>eric_j_feigin</td>\n",
       "      <td>j__sonia_sotomayor</td>\n",
       "      <td>A</td>\n",
       "      <td>False</td>\n",
       "      <td>86</td>\n",
       "    </tr>\n",
       "  </tbody>\n",
       "</table>\n",
       "<p>678371 rows × 8 columns</p>\n",
       "</div>"
      ],
      "text/plain": [
       "    conversation_id  chunk_no  utterance_id    advocate_id  \\\n",
       "0             18242         0  18242__0_003  alan_g_segedy   \n",
       "1             18242         0  18242__0_004  alan_g_segedy   \n",
       "2             18242         0  18242__0_005  alan_g_segedy   \n",
       "3             18242         0  18242__0_006  alan_g_segedy   \n",
       "4             18242         0  18242__0_007  alan_g_segedy   \n",
       "..              ...       ...           ...            ...   \n",
       "6             24969        17  24969__2_006  eric_j_feigin   \n",
       "7             24969        17  24969__2_007  eric_j_feigin   \n",
       "8             24969        17  24969__2_008  eric_j_feigin   \n",
       "9             24969        17  24969__2_009  eric_j_feigin   \n",
       "10            24969        17  24969__2_010  eric_j_feigin   \n",
       "\n",
       "               justice_id speaker_type  interrupted  n_tokens  \n",
       "0   j__sandra_day_oconnor            A         True       518  \n",
       "1   j__sandra_day_oconnor            J        False        19  \n",
       "2   j__sandra_day_oconnor            A        False         4  \n",
       "3   j__sandra_day_oconnor            J        False         3  \n",
       "4   j__sandra_day_oconnor            A         True         6  \n",
       "..                    ...          ...          ...       ...  \n",
       "6      j__sonia_sotomayor            A        False         3  \n",
       "7      j__sonia_sotomayor            J         True        25  \n",
       "8      j__sonia_sotomayor            A         True         3  \n",
       "9      j__sonia_sotomayor            J        False         1  \n",
       "10     j__sonia_sotomayor            A        False        86  \n",
       "\n",
       "[678371 rows x 8 columns]"
      ]
     },
     "execution_count": 256,
     "metadata": {},
     "output_type": "execute_result"
    }
   ],
   "source": [
    "chunks"
   ]
  },
  {
   "cell_type": "markdown",
   "metadata": {},
   "source": [
    "## Interruptions"
   ]
  },
  {
   "cell_type": "code",
   "execution_count": 258,
   "metadata": {},
   "outputs": [],
   "source": [
    "interruptions = chunks.query('speaker_type == \"A\"').groupby(['conversation_id', 'chunk_no', 'advocate_id', 'justice_id']).sum()"
   ]
  },
  {
   "cell_type": "code",
   "execution_count": 267,
   "metadata": {},
   "outputs": [],
   "source": [
    "interruption_rate = interruptions.interrupted / (interruptions.n_tokens / 1000)\n",
    "interruption_rate.name = 'interruption_rate'"
   ]
  },
  {
   "cell_type": "code",
   "execution_count": 268,
   "metadata": {},
   "outputs": [],
   "source": [
    "interruption_rate.reset_index().to_csv('flatfiles/interruptions.csv', header=True, index=False)"
   ]
  },
  {
   "cell_type": "markdown",
   "metadata": {},
   "source": [
    "## Genders"
   ]
  },
  {
   "cell_type": "code",
   "execution_count": 441,
   "metadata": {},
   "outputs": [],
   "source": [
    "from nameparser import HumanName\n",
    "\n",
    "advocate_names = all_advocates.rename(columns={'meta.name': 'name'})[['name']]\n",
    "advocate_names['lastname'] = advocate_names['name'].apply(lambda n: HumanName(n).last)\n",
    "advocate_names['male_honorific'] = 'Mr. ' + advocate_names['lastname']\n",
    "advocate_names['female_honorific'] = 'Ms. ' + advocate_names['lastname']"
   ]
  },
  {
   "cell_type": "code",
   "execution_count": 442,
   "metadata": {},
   "outputs": [],
   "source": [
    "is_convo_post_1982 = all_convos['meta.case_id'].apply(lambda id: int(id.split('_')[0])) >= 1982"
   ]
  },
  {
   "cell_type": "code",
   "execution_count": 443,
   "metadata": {},
   "outputs": [],
   "source": [
    "advocates_per_convo = all_convos.loc[is_convo_post_1982, 'meta.advocates'].apply(lambda a: a.keys()) \\\n",
    "  .explode() \\\n",
    "  .replace('', None) \\\n",
    "  .dropna() \\\n",
    "  .reset_index() \\\n",
    "  .rename(columns={'id': 'conversation_id', 'meta.advocates': 'advocate_id'})"
   ]
  },
  {
   "cell_type": "code",
   "execution_count": 444,
   "metadata": {},
   "outputs": [],
   "source": [
    "honorific_utt = all_utterances[all_utterances.speaker.str.contains('j__')].copy().set_index('conversation_id')['text'].str.findall(r'(Mr. \\w+|Ms. \\w+)')\n",
    "honorific_utt.name = 'j_honorifics_uttered'"
   ]
  },
  {
   "cell_type": "code",
   "execution_count": 445,
   "metadata": {},
   "outputs": [],
   "source": [
    "# left merge??\n",
    "honorifics_uttered = advocates_per_convo.merge(honorific_utt.groupby(level=0).sum().reset_index(), on='conversation_id') \\\n",
    "  .groupby('advocate_id')['j_honorifics_uttered'].sum().apply(set)"
   ]
  },
  {
   "cell_type": "code",
   "execution_count": 459,
   "metadata": {},
   "outputs": [],
   "source": [
    "names_and_honorifics = advocate_names.join(honorifics_uttered)"
   ]
  },
  {
   "cell_type": "code",
   "execution_count": 460,
   "metadata": {},
   "outputs": [],
   "source": [
    "names_and_honorifics['matched_mr'] = names_and_honorifics.apply(\n",
    "  lambda a: a['male_honorific'] in a['j_honorifics_uttered'] \n",
    "    if type(a['j_honorifics_uttered']) == set else False, \n",
    "  axis=1\n",
    ")\n",
    "names_and_honorifics['matched_ms'] = names_and_honorifics.apply(\n",
    "  lambda a: a['female_honorific'] in a['j_honorifics_uttered']\n",
    "    if type(a['j_honorifics_uttered']) == set else False, \n",
    "  axis=1\n",
    ")"
   ]
  },
  {
   "cell_type": "code",
   "execution_count": 461,
   "metadata": {},
   "outputs": [],
   "source": [
    "one_honorific_matched = names_and_honorifics['matched_mr'] ^ names_and_honorifics['matched_ms']\n",
    "names_and_honorifics['gender'] = np.where(one_honorific_matched, names_and_honorifics['matched_ms'], None) # female = True, male = False"
   ]
  },
  {
   "cell_type": "code",
   "execution_count": 476,
   "metadata": {},
   "outputs": [],
   "source": [
    "from gender_guesser.detector import Detector as GenderDetector\n",
    "detector = GenderDetector()\n",
    "names_and_honorifics['firstname'] = names_and_honorifics['name'].apply(lambda n: HumanName(n).first)\n",
    "names_and_honorifics['gender_det'] = names_and_honorifics['firstname'].apply(detector.get_gender)"
   ]
  },
  {
   "cell_type": "code",
   "execution_count": 485,
   "metadata": {},
   "outputs": [
    {
     "name": "stdout",
     "output_type": "stream",
     "text": [
      "17 males detected as female.\n",
      "8 females detected as male.\n"
     ]
    }
   ],
   "source": [
    "print(((names_and_honorifics.gender == False) & (names_and_honorifics.gender_det == \"female\")).sum(), 'males detected as female.')\n",
    "print(((names_and_honorifics.gender == True) & (names_and_honorifics.gender_det == \"male\")).sum(), 'females detected as male.')"
   ]
  },
  {
   "cell_type": "code",
   "execution_count": 495,
   "metadata": {},
   "outputs": [
    {
     "name": "stdout",
     "output_type": "stream",
     "text": [
      "Confident detector for 4257 / 4974 unmatched genders.\n",
      "214 are female.\n"
     ]
    }
   ],
   "source": [
    "print(\n",
    "  'Confident detector for', \n",
    "  (names_and_honorifics.gender.isna() & names_and_honorifics.gender_det.isin(['male', 'female'])).sum(), \n",
    "  '/', \n",
    "  names_and_honorifics.gender.isna().sum(), \n",
    "  'unmatched genders.'\n",
    ")\n",
    "print((names_and_honorifics.gender.isna() & names_and_honorifics.gender_det.isin(['female'])).sum(), 'are female.')"
   ]
  },
  {
   "cell_type": "code",
   "execution_count": 496,
   "metadata": {},
   "outputs": [],
   "source": [
    "# set confident detected genders\n",
    "names_and_honorifics.loc[names_and_honorifics.gender.isna() & (names_and_honorifics.gender_det == 'male'), 'gender'] = False\n",
    "names_and_honorifics.loc[names_and_honorifics.gender.isna() & (names_and_honorifics.gender_det == 'female'), 'gender'] = True"
   ]
  },
  {
   "cell_type": "code",
   "execution_count": 499,
   "metadata": {},
   "outputs": [
    {
     "data": {
      "text/html": [
       "<div>\n",
       "<style scoped>\n",
       "    .dataframe tbody tr th:only-of-type {\n",
       "        vertical-align: middle;\n",
       "    }\n",
       "\n",
       "    .dataframe tbody tr th {\n",
       "        vertical-align: top;\n",
       "    }\n",
       "\n",
       "    .dataframe thead th {\n",
       "        text-align: right;\n",
       "    }\n",
       "</style>\n",
       "<table border=\"1\" class=\"dataframe\">\n",
       "  <thead>\n",
       "    <tr style=\"text-align: right;\">\n",
       "      <th></th>\n",
       "      <th>name</th>\n",
       "      <th>lastname</th>\n",
       "      <th>male_honorific</th>\n",
       "      <th>female_honorific</th>\n",
       "      <th>j_honorifics_uttered</th>\n",
       "      <th>matched_mr</th>\n",
       "      <th>matched_ms</th>\n",
       "      <th>gender</th>\n",
       "      <th>gender_det</th>\n",
       "      <th>firstname</th>\n",
       "    </tr>\n",
       "    <tr>\n",
       "      <th>id</th>\n",
       "      <th></th>\n",
       "      <th></th>\n",
       "      <th></th>\n",
       "      <th></th>\n",
       "      <th></th>\n",
       "      <th></th>\n",
       "      <th></th>\n",
       "      <th></th>\n",
       "      <th></th>\n",
       "      <th></th>\n",
       "    </tr>\n",
       "  </thead>\n",
       "  <tbody>\n",
       "    <tr>\n",
       "      <th>mary_s_burdick</th>\n",
       "      <td>Mary S. Burdick</td>\n",
       "      <td>Burdick</td>\n",
       "      <td>Mr. Burdick</td>\n",
       "      <td>Ms. Burdick</td>\n",
       "      <td>{Ms. Burdick, Mr. Merrill, Mr. Burdick}</td>\n",
       "      <td>True</td>\n",
       "      <td>True</td>\n",
       "      <td>None</td>\n",
       "      <td>mostly_female</td>\n",
       "      <td>Mary</td>\n",
       "    </tr>\n",
       "    <tr>\n",
       "      <th>carolou_perry_durham</th>\n",
       "      <td>Carolou Perry Durham</td>\n",
       "      <td>Durham</td>\n",
       "      <td>Mr. Durham</td>\n",
       "      <td>Ms. Durham</td>\n",
       "      <td>{Mr. Washko, Mr. Robbins, Ms. Durham, Mr. Durham}</td>\n",
       "      <td>True</td>\n",
       "      <td>True</td>\n",
       "      <td>None</td>\n",
       "      <td>unknown</td>\n",
       "      <td>Carolou</td>\n",
       "    </tr>\n",
       "    <tr>\n",
       "      <th>gale_norton</th>\n",
       "      <td>Gale Norton</td>\n",
       "      <td>Norton</td>\n",
       "      <td>Mr. Norton</td>\n",
       "      <td>Ms. Norton</td>\n",
       "      <td>{Mr. Cook, Mr. Norton, Mr. O, Ms. Norton, Mr. ...</td>\n",
       "      <td>True</td>\n",
       "      <td>True</td>\n",
       "      <td>None</td>\n",
       "      <td>mostly_female</td>\n",
       "      <td>Gale</td>\n",
       "    </tr>\n",
       "    <tr>\n",
       "      <th>corbett_gordon</th>\n",
       "      <td>Corbett Gordon</td>\n",
       "      <td>Gordon</td>\n",
       "      <td>Mr. Gordon</td>\n",
       "      <td>Ms. Gordon</td>\n",
       "      <td>{Mr. Kirkingburg, Mr. Dumont, Mr. Hunt, Ms. Go...</td>\n",
       "      <td>True</td>\n",
       "      <td>True</td>\n",
       "      <td>None</td>\n",
       "      <td>unknown</td>\n",
       "      <td>Corbett</td>\n",
       "    </tr>\n",
       "    <tr>\n",
       "      <th>j_bart_delone</th>\n",
       "      <td>J. Bart DeLone</td>\n",
       "      <td>DeLone</td>\n",
       "      <td>Mr. DeLone</td>\n",
       "      <td>Ms. DeLone</td>\n",
       "      <td>{Mr. DeLone, Ms. DeLone, Mr. Smith, Mr. Krill}</td>\n",
       "      <td>True</td>\n",
       "      <td>True</td>\n",
       "      <td>None</td>\n",
       "      <td>unknown</td>\n",
       "      <td>J.</td>\n",
       "    </tr>\n",
       "  </tbody>\n",
       "</table>\n",
       "</div>"
      ],
      "text/plain": [
       "                                      name lastname male_honorific  \\\n",
       "id                                                                   \n",
       "mary_s_burdick             Mary S. Burdick  Burdick    Mr. Burdick   \n",
       "carolou_perry_durham  Carolou Perry Durham   Durham     Mr. Durham   \n",
       "gale_norton                    Gale Norton   Norton     Mr. Norton   \n",
       "corbett_gordon              Corbett Gordon   Gordon     Mr. Gordon   \n",
       "j_bart_delone               J. Bart DeLone   DeLone     Mr. DeLone   \n",
       "\n",
       "                     female_honorific  \\\n",
       "id                                      \n",
       "mary_s_burdick            Ms. Burdick   \n",
       "carolou_perry_durham       Ms. Durham   \n",
       "gale_norton                Ms. Norton   \n",
       "corbett_gordon             Ms. Gordon   \n",
       "j_bart_delone              Ms. DeLone   \n",
       "\n",
       "                                                   j_honorifics_uttered  \\\n",
       "id                                                                        \n",
       "mary_s_burdick                  {Ms. Burdick, Mr. Merrill, Mr. Burdick}   \n",
       "carolou_perry_durham  {Mr. Washko, Mr. Robbins, Ms. Durham, Mr. Durham}   \n",
       "gale_norton           {Mr. Cook, Mr. Norton, Mr. O, Ms. Norton, Mr. ...   \n",
       "corbett_gordon        {Mr. Kirkingburg, Mr. Dumont, Mr. Hunt, Ms. Go...   \n",
       "j_bart_delone            {Mr. DeLone, Ms. DeLone, Mr. Smith, Mr. Krill}   \n",
       "\n",
       "                      matched_mr  matched_ms gender     gender_det firstname  \n",
       "id                                                                            \n",
       "mary_s_burdick              True        True   None  mostly_female      Mary  \n",
       "carolou_perry_durham        True        True   None        unknown   Carolou  \n",
       "gale_norton                 True        True   None  mostly_female      Gale  \n",
       "corbett_gordon              True        True   None        unknown   Corbett  \n",
       "j_bart_delone               True        True   None        unknown        J.  "
      ]
     },
     "execution_count": 499,
     "metadata": {},
     "output_type": "execute_result"
    }
   ],
   "source": [
    "# manually resolve those that are both mr and ms\n",
    "names_and_honorifics.query('matched_mr & matched_ms & gender.isna()')"
   ]
  },
  {
   "cell_type": "code",
   "execution_count": 500,
   "metadata": {},
   "outputs": [],
   "source": [
    "names_and_honorifics.loc[[\n",
    "  'mary_s_burdick', \n",
    "  'gale_norton',\n",
    "  'corbett_gordon'\n",
    "]] = True"
   ]
  },
  {
   "cell_type": "code",
   "execution_count": 501,
   "metadata": {},
   "outputs": [],
   "source": [
    "names_and_honorifics['gender'].to_csv('flatfiles/genders.csv')"
   ]
  },
  {
   "cell_type": "markdown",
   "metadata": {},
   "source": [
    "## Alignment"
   ]
  },
  {
   "cell_type": "code",
   "execution_count": 6,
   "metadata": {},
   "outputs": [],
   "source": [
    "interruptions = pd.read_csv('flatfiles/interruptions.csv')"
   ]
  },
  {
   "cell_type": "code",
   "execution_count": 85,
   "metadata": {},
   "outputs": [],
   "source": [
    "votes = all_convos.reset_index().rename(columns={'id': 'conversation_id'}) \\\n",
    "  .merge(interruptions, on='conversation_id')"
   ]
  },
  {
   "cell_type": "code",
   "execution_count": 86,
   "metadata": {},
   "outputs": [
    {
     "name": "stdout",
     "output_type": "stream",
     "text": [
      "240 conversation-advocate-justice triples do not match. Dropping.\n"
     ]
    }
   ],
   "source": [
    "def do_align(r):\n",
    "  try:\n",
    "    return r['meta.advocates'][r.advocate_id]['side'] == r['meta.votes_side'][r.justice_id]\n",
    "  except:\n",
    "    return None\n",
    "\n",
    "votes['do_align'] = votes.apply(do_align, axis=1)\n",
    "print(votes.do_align.isna().sum(), 'conversation-advocate-justice triples do not match. Dropping.')\n",
    "votes = votes.dropna().copy()"
   ]
  },
  {
   "cell_type": "code",
   "execution_count": 96,
   "metadata": {},
   "outputs": [],
   "source": [
    "votes[interruptions.columns.to_list() + ['do_align']].to_csv('flatfiles/interruption_rates_and_alignment.csv', index=False, header=True)"
   ]
  },
  {
   "cell_type": "markdown",
   "metadata": {},
   "source": [
    "## Experience"
   ]
  },
  {
   "cell_type": "code",
   "execution_count": 120,
   "metadata": {},
   "outputs": [],
   "source": [
    "# is_convo_post_1982 = all_convos['meta.case_id'].apply(lambda id: int(id.split('_')[0])) >= 1982\n",
    "advocates_per_convo = all_convos.loc[is_convo_post_1982, 'meta.advocates'].apply(lambda a: a.keys()) \\\n",
    "  .explode() \\\n",
    "  .replace('', None) \\\n",
    "  .dropna() \\\n",
    "  .reset_index() \\\n",
    "  .rename(columns={'id': 'conversation_id', 'meta.advocates': 'advocate_id'})"
   ]
  },
  {
   "cell_type": "code",
   "execution_count": 130,
   "metadata": {},
   "outputs": [],
   "source": [
    "advocates_per_convo.groupby('advocate_id').count().rename(columns={'conversation_id': 'experience'}).to_csv('flatfiles/experience.csv', header=True, index=True)"
   ]
  },
  {
   "cell_type": "markdown",
   "metadata": {},
   "source": [
    "## Analysis"
   ]
  },
  {
   "cell_type": "code",
   "execution_count": 138,
   "metadata": {},
   "outputs": [],
   "source": [
    "genders = pd.read_csv('flatfiles/genders.csv').rename(columns={'id': 'advocate_id'})#.dropna()\n",
    "experience = pd.read_csv('flatfiles/experience.csv')\n",
    "interruptions = pd.read_csv('flatfiles/interruption_rates_and_alignment.csv').merge(genders).merge(experience)"
   ]
  },
  {
   "cell_type": "code",
   "execution_count": 139,
   "metadata": {},
   "outputs": [
    {
     "name": "stdout",
     "output_type": "stream",
     "text": [
      "229 / 78005 chunks (21 / 4053 advocates corresponding to chunks) do not have a gender. Dropping.\n"
     ]
    }
   ],
   "source": [
    "n_advocates = len(interruptions.advocate_id.unique())\n",
    "n_unmatched_advocates = len(interruptions[interruptions.gender.isna()].advocate_id.unique())\n",
    "print(\n",
    "  f'{interruptions.gender.isna().sum()} / {len(interruptions)} chunks',\n",
    "  f'({n_unmatched_advocates} / {n_advocates} advocates corresponding to chunks) do not have a gender. Dropping.'\n",
    ")\n",
    "interruptions = interruptions.dropna()"
   ]
  },
  {
   "cell_type": "code",
   "execution_count": 142,
   "metadata": {},
   "outputs": [
    {
     "name": "stdout",
     "output_type": "stream",
     "text": [
      "Most experienced advocates:\n"
     ]
    },
    {
     "data": {
      "text/html": [
       "<div>\n",
       "<style scoped>\n",
       "    .dataframe tbody tr th:only-of-type {\n",
       "        vertical-align: middle;\n",
       "    }\n",
       "\n",
       "    .dataframe tbody tr th {\n",
       "        vertical-align: top;\n",
       "    }\n",
       "\n",
       "    .dataframe thead th {\n",
       "        text-align: right;\n",
       "    }\n",
       "</style>\n",
       "<table border=\"1\" class=\"dataframe\">\n",
       "  <thead>\n",
       "    <tr style=\"text-align: right;\">\n",
       "      <th></th>\n",
       "      <th>advocate_id</th>\n",
       "      <th>experience</th>\n",
       "    </tr>\n",
       "  </thead>\n",
       "  <tbody>\n",
       "    <tr>\n",
       "      <th>1066</th>\n",
       "      <td>edwin_s_kneedler</td>\n",
       "      <td>139</td>\n",
       "    </tr>\n",
       "    <tr>\n",
       "      <th>2957</th>\n",
       "      <td>michael_r_dreeben</td>\n",
       "      <td>105</td>\n",
       "    </tr>\n",
       "    <tr>\n",
       "      <th>3136</th>\n",
       "      <td>paul_d_clement</td>\n",
       "      <td>103</td>\n",
       "    </tr>\n",
       "    <tr>\n",
       "      <th>2626</th>\n",
       "      <td>malcolm_l_stewart</td>\n",
       "      <td>88</td>\n",
       "    </tr>\n",
       "    <tr>\n",
       "      <th>468</th>\n",
       "      <td>carter_g_phillips</td>\n",
       "      <td>85</td>\n",
       "    </tr>\n",
       "    <tr>\n",
       "      <th>2473</th>\n",
       "      <td>lawrence_g_wallace</td>\n",
       "      <td>82</td>\n",
       "    </tr>\n",
       "    <tr>\n",
       "      <th>3854</th>\n",
       "      <td>seth_p_waxman</td>\n",
       "      <td>80</td>\n",
       "    </tr>\n",
       "    <tr>\n",
       "      <th>4084</th>\n",
       "      <td>theodore_b_olson</td>\n",
       "      <td>65</td>\n",
       "    </tr>\n",
       "    <tr>\n",
       "      <th>760</th>\n",
       "      <td>david_c_frederick</td>\n",
       "      <td>55</td>\n",
       "    </tr>\n",
       "    <tr>\n",
       "      <th>945</th>\n",
       "      <td>donald_b_verrilli_jr</td>\n",
       "      <td>54</td>\n",
       "    </tr>\n",
       "    <tr>\n",
       "      <th>1652</th>\n",
       "      <td>james_a_feldman</td>\n",
       "      <td>49</td>\n",
       "    </tr>\n",
       "    <tr>\n",
       "      <th>1887</th>\n",
       "      <td>jeffrey_p_minear</td>\n",
       "      <td>47</td>\n",
       "    </tr>\n",
       "    <tr>\n",
       "      <th>1404</th>\n",
       "      <td>gregory_g_garre</td>\n",
       "      <td>44</td>\n",
       "    </tr>\n",
       "    <tr>\n",
       "      <th>4107</th>\n",
       "      <td>thomas_c_goldstein</td>\n",
       "      <td>43</td>\n",
       "    </tr>\n",
       "    <tr>\n",
       "      <th>3035</th>\n",
       "      <td>neal_kumar_katyal</td>\n",
       "      <td>42</td>\n",
       "    </tr>\n",
       "    <tr>\n",
       "      <th>3362</th>\n",
       "      <td>rex_e_lee</td>\n",
       "      <td>42</td>\n",
       "    </tr>\n",
       "    <tr>\n",
       "      <th>1878</th>\n",
       "      <td>jeffrey_l_fisher</td>\n",
       "      <td>41</td>\n",
       "    </tr>\n",
       "    <tr>\n",
       "      <th>2554</th>\n",
       "      <td>lisa_s_blatt</td>\n",
       "      <td>39</td>\n",
       "    </tr>\n",
       "    <tr>\n",
       "      <th>1570</th>\n",
       "      <td>irving_l_gornstein</td>\n",
       "      <td>38</td>\n",
       "    </tr>\n",
       "    <tr>\n",
       "      <th>2389</th>\n",
       "      <td>kent_l_jones</td>\n",
       "      <td>37</td>\n",
       "    </tr>\n",
       "  </tbody>\n",
       "</table>\n",
       "</div>"
      ],
      "text/plain": [
       "               advocate_id  experience\n",
       "1066      edwin_s_kneedler         139\n",
       "2957     michael_r_dreeben         105\n",
       "3136        paul_d_clement         103\n",
       "2626     malcolm_l_stewart          88\n",
       "468      carter_g_phillips          85\n",
       "2473    lawrence_g_wallace          82\n",
       "3854         seth_p_waxman          80\n",
       "4084      theodore_b_olson          65\n",
       "760      david_c_frederick          55\n",
       "945   donald_b_verrilli_jr          54\n",
       "1652       james_a_feldman          49\n",
       "1887      jeffrey_p_minear          47\n",
       "1404       gregory_g_garre          44\n",
       "4107    thomas_c_goldstein          43\n",
       "3035     neal_kumar_katyal          42\n",
       "3362             rex_e_lee          42\n",
       "1878      jeffrey_l_fisher          41\n",
       "2554          lisa_s_blatt          39\n",
       "1570    irving_l_gornstein          38\n",
       "2389          kent_l_jones          37"
      ]
     },
     "execution_count": 142,
     "metadata": {},
     "output_type": "execute_result"
    }
   ],
   "source": [
    "print('Most experienced advocates:')\n",
    "experience.sort_values(by='experience', ascending=False).head(20)"
   ]
  },
  {
   "cell_type": "code",
   "execution_count": 106,
   "metadata": {},
   "outputs": [
    {
     "name": "stdout",
     "output_type": "stream",
     "text": [
      "Percent of chunks with a female advocate:\n"
     ]
    },
    {
     "data": {
      "text/html": [
       "<div>\n",
       "<style scoped>\n",
       "    .dataframe tbody tr th:only-of-type {\n",
       "        vertical-align: middle;\n",
       "    }\n",
       "\n",
       "    .dataframe tbody tr th {\n",
       "        vertical-align: top;\n",
       "    }\n",
       "\n",
       "    .dataframe thead th {\n",
       "        text-align: right;\n",
       "    }\n",
       "</style>\n",
       "<table border=\"1\" class=\"dataframe\">\n",
       "  <thead>\n",
       "    <tr style=\"text-align: right;\">\n",
       "      <th></th>\n",
       "      <th>mean</th>\n",
       "      <th>count</th>\n",
       "    </tr>\n",
       "    <tr>\n",
       "      <th>justice_id</th>\n",
       "      <th></th>\n",
       "      <th></th>\n",
       "    </tr>\n",
       "  </thead>\n",
       "  <tbody>\n",
       "    <tr>\n",
       "      <th>j__anthony_m_kennedy</th>\n",
       "      <td>0.145153</td>\n",
       "      <td>6159</td>\n",
       "    </tr>\n",
       "    <tr>\n",
       "      <th>j__antonin_scalia</th>\n",
       "      <td>0.128633</td>\n",
       "      <td>12695</td>\n",
       "    </tr>\n",
       "    <tr>\n",
       "      <th>j__brett_m_kavanaugh</th>\n",
       "      <td>0.131234</td>\n",
       "      <td>381</td>\n",
       "    </tr>\n",
       "    <tr>\n",
       "      <th>j__byron_r_white</th>\n",
       "      <td>0.083670</td>\n",
       "      <td>5199</td>\n",
       "    </tr>\n",
       "    <tr>\n",
       "      <th>j__clarence_thomas</th>\n",
       "      <td>0.163265</td>\n",
       "      <td>49</td>\n",
       "    </tr>\n",
       "    <tr>\n",
       "      <th>j__david_h_souter</th>\n",
       "      <td>0.138889</td>\n",
       "      <td>4176</td>\n",
       "    </tr>\n",
       "    <tr>\n",
       "      <th>j__elena_kagan</th>\n",
       "      <td>0.148888</td>\n",
       "      <td>1753</td>\n",
       "    </tr>\n",
       "    <tr>\n",
       "      <th>j__harry_a_blackmun</th>\n",
       "      <td>0.130734</td>\n",
       "      <td>872</td>\n",
       "    </tr>\n",
       "    <tr>\n",
       "      <th>j__john_g_roberts_jr</th>\n",
       "      <td>0.160433</td>\n",
       "      <td>4251</td>\n",
       "    </tr>\n",
       "    <tr>\n",
       "      <th>j__john_paul_stevens</th>\n",
       "      <td>0.114339</td>\n",
       "      <td>8090</td>\n",
       "    </tr>\n",
       "    <tr>\n",
       "      <th>j__lewis_f_powell_jr</th>\n",
       "      <td>0.084071</td>\n",
       "      <td>452</td>\n",
       "    </tr>\n",
       "    <tr>\n",
       "      <th>j__neil_gorsuch</th>\n",
       "      <td>0.147436</td>\n",
       "      <td>468</td>\n",
       "    </tr>\n",
       "    <tr>\n",
       "      <th>j__ruth_bader_ginsburg</th>\n",
       "      <td>0.129808</td>\n",
       "      <td>6109</td>\n",
       "    </tr>\n",
       "    <tr>\n",
       "      <th>j__samuel_a_alito_jr</th>\n",
       "      <td>0.167554</td>\n",
       "      <td>2065</td>\n",
       "    </tr>\n",
       "    <tr>\n",
       "      <th>j__sandra_day_oconnor</th>\n",
       "      <td>0.108004</td>\n",
       "      <td>5435</td>\n",
       "    </tr>\n",
       "    <tr>\n",
       "      <th>j__sonia_sotomayor</th>\n",
       "      <td>0.145869</td>\n",
       "      <td>2941</td>\n",
       "    </tr>\n",
       "    <tr>\n",
       "      <th>j__stephen_g_breyer</th>\n",
       "      <td>0.136857</td>\n",
       "      <td>6167</td>\n",
       "    </tr>\n",
       "    <tr>\n",
       "      <th>j__thurgood_marshall</th>\n",
       "      <td>0.085476</td>\n",
       "      <td>1439</td>\n",
       "    </tr>\n",
       "    <tr>\n",
       "      <th>j__warren_e_burger</th>\n",
       "      <td>0.070579</td>\n",
       "      <td>1261</td>\n",
       "    </tr>\n",
       "    <tr>\n",
       "      <th>j__william_h_rehnquist</th>\n",
       "      <td>0.104854</td>\n",
       "      <td>7210</td>\n",
       "    </tr>\n",
       "    <tr>\n",
       "      <th>j__william_j_brennan_jr</th>\n",
       "      <td>0.087748</td>\n",
       "      <td>604</td>\n",
       "    </tr>\n",
       "  </tbody>\n",
       "</table>\n",
       "</div>"
      ],
      "text/plain": [
       "                             mean  count\n",
       "justice_id                              \n",
       "j__anthony_m_kennedy     0.145153   6159\n",
       "j__antonin_scalia        0.128633  12695\n",
       "j__brett_m_kavanaugh     0.131234    381\n",
       "j__byron_r_white         0.083670   5199\n",
       "j__clarence_thomas       0.163265     49\n",
       "j__david_h_souter        0.138889   4176\n",
       "j__elena_kagan           0.148888   1753\n",
       "j__harry_a_blackmun      0.130734    872\n",
       "j__john_g_roberts_jr     0.160433   4251\n",
       "j__john_paul_stevens     0.114339   8090\n",
       "j__lewis_f_powell_jr     0.084071    452\n",
       "j__neil_gorsuch          0.147436    468\n",
       "j__ruth_bader_ginsburg   0.129808   6109\n",
       "j__samuel_a_alito_jr     0.167554   2065\n",
       "j__sandra_day_oconnor    0.108004   5435\n",
       "j__sonia_sotomayor       0.145869   2941\n",
       "j__stephen_g_breyer      0.136857   6167\n",
       "j__thurgood_marshall     0.085476   1439\n",
       "j__warren_e_burger       0.070579   1261\n",
       "j__william_h_rehnquist   0.104854   7210\n",
       "j__william_j_brennan_jr  0.087748    604"
      ]
     },
     "execution_count": 106,
     "metadata": {},
     "output_type": "execute_result"
    }
   ],
   "source": [
    "print('Percent of chunks with a female advocate:')\n",
    "interruptions.groupby('justice_id').gender.agg(['mean', 'count'])"
   ]
  },
  {
   "cell_type": "code",
   "execution_count": 147,
   "metadata": {},
   "outputs": [
    {
     "name": "stdout",
     "output_type": "stream",
     "text": [
      "Most experienced advocates:\n"
     ]
    },
    {
     "data": {
      "text/html": [
       "<div>\n",
       "<style scoped>\n",
       "    .dataframe tbody tr th:only-of-type {\n",
       "        vertical-align: middle;\n",
       "    }\n",
       "\n",
       "    .dataframe tbody tr th {\n",
       "        vertical-align: top;\n",
       "    }\n",
       "\n",
       "    .dataframe thead th {\n",
       "        text-align: right;\n",
       "    }\n",
       "</style>\n",
       "<table border=\"1\" class=\"dataframe\">\n",
       "  <thead>\n",
       "    <tr style=\"text-align: right;\">\n",
       "      <th></th>\n",
       "      <th>advocate_id</th>\n",
       "      <th>experience</th>\n",
       "    </tr>\n",
       "  </thead>\n",
       "  <tbody>\n",
       "    <tr>\n",
       "      <th>2403</th>\n",
       "      <td>lisa_s_blatt</td>\n",
       "      <td>39</td>\n",
       "    </tr>\n",
       "    <tr>\n",
       "      <th>2896</th>\n",
       "      <td>patricia_a_millett</td>\n",
       "      <td>32</td>\n",
       "    </tr>\n",
       "    <tr>\n",
       "      <th>2858</th>\n",
       "      <td>nicole_saharsky</td>\n",
       "      <td>29</td>\n",
       "    </tr>\n",
       "    <tr>\n",
       "      <th>290</th>\n",
       "      <td>beth_s_brinkmann</td>\n",
       "      <td>24</td>\n",
       "    </tr>\n",
       "    <tr>\n",
       "      <th>234</th>\n",
       "      <td>barbara_d_underwood</td>\n",
       "      <td>21</td>\n",
       "    </tr>\n",
       "    <tr>\n",
       "      <th>2649</th>\n",
       "      <td>maureen_e_mahoney</td>\n",
       "      <td>19</td>\n",
       "    </tr>\n",
       "    <tr>\n",
       "      <th>174</th>\n",
       "      <td>ann_oconnell</td>\n",
       "      <td>19</td>\n",
       "    </tr>\n",
       "    <tr>\n",
       "      <th>3580</th>\n",
       "      <td>sarah_e_harrington</td>\n",
       "      <td>19</td>\n",
       "    </tr>\n",
       "    <tr>\n",
       "      <th>233</th>\n",
       "      <td>barbara_b_mcdowell</td>\n",
       "      <td>18</td>\n",
       "    </tr>\n",
       "    <tr>\n",
       "      <th>1277</th>\n",
       "      <td>ginger_d_anders</td>\n",
       "      <td>17</td>\n",
       "    </tr>\n",
       "    <tr>\n",
       "      <th>3109</th>\n",
       "      <td>rachel_p_kovner</td>\n",
       "      <td>14</td>\n",
       "    </tr>\n",
       "    <tr>\n",
       "      <th>117</th>\n",
       "      <td>amy_l_wax</td>\n",
       "      <td>14</td>\n",
       "    </tr>\n",
       "    <tr>\n",
       "      <th>820</th>\n",
       "      <td>deanne_e_maynard</td>\n",
       "      <td>14</td>\n",
       "    </tr>\n",
       "    <tr>\n",
       "      <th>2369</th>\n",
       "      <td>leondra_r_kruger</td>\n",
       "      <td>12</td>\n",
       "    </tr>\n",
       "    <tr>\n",
       "      <th>2194</th>\n",
       "      <td>kathryn_a_oberly</td>\n",
       "      <td>12</td>\n",
       "    </tr>\n",
       "    <tr>\n",
       "      <th>1009</th>\n",
       "      <td>elaine_j_goldenberg</td>\n",
       "      <td>12</td>\n",
       "    </tr>\n",
       "    <tr>\n",
       "      <th>2192</th>\n",
       "      <td>kathleen_m_sullivan</td>\n",
       "      <td>11</td>\n",
       "    </tr>\n",
       "    <tr>\n",
       "      <th>2662</th>\n",
       "      <td>melissa_arbus_sherry</td>\n",
       "      <td>10</td>\n",
       "    </tr>\n",
       "    <tr>\n",
       "      <th>592</th>\n",
       "      <td>cornelia_t_l_pillard</td>\n",
       "      <td>9</td>\n",
       "    </tr>\n",
       "    <tr>\n",
       "      <th>2890</th>\n",
       "      <td>pamela_s_karlan</td>\n",
       "      <td>9</td>\n",
       "    </tr>\n",
       "  </tbody>\n",
       "</table>\n",
       "</div>"
      ],
      "text/plain": [
       "               advocate_id  experience\n",
       "2403          lisa_s_blatt          39\n",
       "2896    patricia_a_millett          32\n",
       "2858       nicole_saharsky          29\n",
       "290       beth_s_brinkmann          24\n",
       "234    barbara_d_underwood          21\n",
       "2649     maureen_e_mahoney          19\n",
       "174           ann_oconnell          19\n",
       "3580    sarah_e_harrington          19\n",
       "233     barbara_b_mcdowell          18\n",
       "1277       ginger_d_anders          17\n",
       "3109       rachel_p_kovner          14\n",
       "117              amy_l_wax          14\n",
       "820       deanne_e_maynard          14\n",
       "2369      leondra_r_kruger          12\n",
       "2194      kathryn_a_oberly          12\n",
       "1009   elaine_j_goldenberg          12\n",
       "2192   kathleen_m_sullivan          11\n",
       "2662  melissa_arbus_sherry          10\n",
       "592   cornelia_t_l_pillard           9\n",
       "2890       pamela_s_karlan           9"
      ]
     },
     "execution_count": 147,
     "metadata": {},
     "output_type": "execute_result"
    }
   ],
   "source": [
    "print('Most experienced advocates:')\n",
    "experience.merge(genders).query('gender == True').drop(columns='gender').sort_values(by='experience', ascending=False).head(20)"
   ]
  },
  {
   "cell_type": "code",
   "execution_count": 148,
   "metadata": {},
   "outputs": [
    {
     "name": "stdout",
     "output_type": "stream",
     "text": [
      "Most frequent female advocates:\n"
     ]
    },
    {
     "data": {
      "text/plain": [
       "advocate_id\n",
       "beth_s_brinkmann       248\n",
       "lisa_s_blatt           245\n",
       "patricia_a_millett     245\n",
       "maureen_e_mahoney      171\n",
       "nicole_saharsky        160\n",
       "barbara_d_underwood    156\n",
       "deanne_e_maynard       137\n",
       "pamela_s_karlan        133\n",
       "barbara_b_mcdowell     127\n",
       "sarah_e_harrington     127\n",
       "kathleen_m_sullivan    116\n",
       "ann_oconnell           108\n",
       "amy_l_wax               98\n",
       "rachel_p_kovner         89\n",
       "leondra_r_kruger        84\n",
       "kathryn_a_oberly        74\n",
       "elaine_j_goldenberg     71\n",
       "ginger_d_anders         70\n",
       "katherine_p_baldwin     65\n",
       "caitlin_j_halligan      54\n",
       "Name: interruption_rate, dtype: int64"
      ]
     },
     "execution_count": 148,
     "metadata": {},
     "output_type": "execute_result"
    }
   ],
   "source": [
    "print('Most frequent female advocates:')\n",
    "interruptions.query('gender == True').groupby('advocate_id').interruption_rate.count().sort_values(ascending=False).head(20)"
   ]
  },
  {
   "cell_type": "code",
   "execution_count": 149,
   "metadata": {},
   "outputs": [
    {
     "data": {
      "image/png": "[encoded data removed]",
      "text/plain": [
       "<Figure size 720x576 with 1 Axes>"
      ]
     },
     "metadata": {
      "needs_background": "light"
     },
     "output_type": "display_data"
    }
   ],
   "source": [
    "import matplotlib.pyplot as plt\n",
    "from matplotlib.collections import LineCollection\n",
    "\n",
    "justice_interruption_rates = interruptions.groupby(['justice_id', 'gender']).interruption_rate.mean().unstack('gender').sort_index()\n",
    "\n",
    "fig, ax = plt.subplots()\n",
    "y_pos = np.arange(len(justice_interruption_rates))\n",
    "\n",
    "lines = []\n",
    "for i, j in enumerate(justice_interruption_rates.index):\n",
    "  y = y_pos[i]\n",
    "  xm = justice_interruption_rates.loc[j, False]\n",
    "  xf = justice_interruption_rates.loc[j, True]\n",
    "  plt.plot(xm, y, 'bo')\n",
    "  plt.plot(xf, y, 'ro')\n",
    "  lines.append([(xm, y), (xf, y)])\n",
    "  \n",
    "fig.set_size_inches(10, 8)\n",
    "ax.add_collection(LineCollection(lines, linewidths=2))\n",
    "ax.autoscale()\n",
    "\n",
    "ax.set_yticks(y_pos, labels=justice_interruption_rates.index)\n",
    "ax.invert_yaxis()\n",
    "ax.set_xlabel('Interruptions per 1000 words')\n",
    "ax.set_title('Justice interruption rates (male blue vs. female red)')\n",
    "\n",
    "plt.show()"
   ]
  },
  {
   "cell_type": "code",
   "execution_count": 176,
   "metadata": {},
   "outputs": [],
   "source": [
    "import statsmodels.api as sm"
   ]
  },
  {
   "cell_type": "code",
   "execution_count": 230,
   "metadata": {},
   "outputs": [],
   "source": [
    "justices = interruptions.justice_id.sort_values().unique()\n",
    "results = []\n",
    "for justice in justices:\n",
    "  y = interruptions.query('justice_id == @justice').interruption_rate\n",
    "  X = interruptions.query('justice_id == @justice')[['gender', 'do_align', 'experience']].copy()\n",
    "  X = sm.add_constant(X).replace({ False: 0, True: 1 })\n",
    "  reg = sm.OLS(y, X).fit()\n",
    "  conf_int = reg.conf_int(alpha=0.05, cols=None).stack()\n",
    "  conf_int.index = conf_int.index.map('conf_{0[0]}_{0[1]}'.format)\n",
    "  \n",
    "  res = pd.concat([reg.params, conf_int])\n",
    "  res['justice'] = justice\n",
    "\n",
    "  results.append(res)\n",
    "  \n",
    "interruption_effects = pd.DataFrame(results).set_index('justice')"
   ]
  },
  {
   "cell_type": "code",
   "execution_count": 234,
   "metadata": {},
   "outputs": [
    {
     "data": {
      "image/png": "[encoded data removed]",
      "text/plain": [
       "<Figure size 720x576 with 1 Axes>"
      ]
     },
     "metadata": {
      "needs_background": "light"
     },
     "output_type": "display_data"
    }
   ],
   "source": [
    "import matplotlib.pyplot as plt\n",
    "from matplotlib.collections import LineCollection\n",
    "\n",
    "fig, ax = plt.subplots()\n",
    "y_pos = np.arange(len(interruption_effects))\n",
    "\n",
    "plt.axline((0, 0), (0, 1), color='gray', alpha=0.25, linestyle='dashed')\n",
    "\n",
    "lines = []\n",
    "for i, j in enumerate(interruption_effects.index):\n",
    "  y = y_pos[i]\n",
    "  x0 = interruption_effects.loc[j, 'conf_gender_0']\n",
    "  x = interruption_effects.loc[j, 'gender']\n",
    "  x1 = interruption_effects.loc[j, 'conf_gender_1']\n",
    "  plt.plot(x, y, 'bo')\n",
    "  lines.append([(x0, y), (x1, y)])\n",
    "\n",
    "fig.set_size_inches(10, 8)\n",
    "ax.add_collection(LineCollection(lines, linewidths=2))\n",
    "ax.autoscale()\n",
    "\n",
    "ax.set_yticks(y_pos, labels=justice_interruption_rates.index)\n",
    "ax.invert_yaxis()\n",
    "ax.set_xlabel('Interruptions per 1000 words')\n",
    "ax.set_title(\n",
    "  'Increase in justice interruptions of an advocate '\n",
    "  'if the advocate were female instead of male,\\n'\n",
    "  'with 95% confidence interval, controlling for alignment and experience')\n",
    "\n",
    "plt.show()"
   ]
  },
  {
   "cell_type": "code",
   "execution_count": null,
   "metadata": {},
   "outputs": [],
   "source": []
  },
  {
   "cell_type": "code",
   "execution_count": 225,
   "metadata": {},
   "outputs": [],
   "source": [
    "justices = interruptions.justice_id.sort_values().unique()\n",
    "results = []\n",
    "for justice in justices:\n",
    "  y = interruptions.query('justice_id == @justice').interruption_rate\n",
    "  X = interruptions.query('justice_id == @justice')[['gender']].copy()\n",
    "  X = sm.add_constant(X).replace({ False: 0, True: 1 })\n",
    "  reg = sm.OLS(y, X).fit()\n",
    "  conf_int = reg.conf_int(alpha=0.05, cols=None).stack()\n",
    "  conf_int.index = conf_int.index.map('conf_{0[0]}_{0[1]}'.format)\n",
    "  \n",
    "  res = pd.concat([reg.params, conf_int])\n",
    "  res['justice'] = justice\n",
    "\n",
    "  results.append(res)\n",
    "  \n",
    "interruption_effects = pd.DataFrame(results).set_index('justice')"
   ]
  },
  {
   "cell_type": "code",
   "execution_count": 226,
   "metadata": {},
   "outputs": [
    {
     "data": {
      "image/png": "[encoded data removed]",
      "text/plain": [
       "<Figure size 720x576 with 1 Axes>"
      ]
     },
     "metadata": {
      "needs_background": "light"
     },
     "output_type": "display_data"
    }
   ],
   "source": [
    "import matplotlib.pyplot as plt\n",
    "from matplotlib.collections import LineCollection\n",
    "\n",
    "fig, ax = plt.subplots()\n",
    "y_pos = np.arange(len(interruption_effects))\n",
    "\n",
    "plt.axline((0, 0), (0, 1), color='gray', alpha=0.25, linestyle='dashed')\n",
    "\n",
    "lines = []\n",
    "for i, j in enumerate(interruption_effects.index):\n",
    "  y = y_pos[i]\n",
    "  x0 = interruption_effects.loc[j, 'conf_gender_0']\n",
    "  x = interruption_effects.loc[j, 'gender']\n",
    "  x1 = interruption_effects.loc[j, 'conf_gender_1']\n",
    "  plt.plot(x, y, 'bo')\n",
    "  lines.append([(x0, y), (x1, y)])\n",
    "\n",
    "fig.set_size_inches(10, 8)\n",
    "ax.add_collection(LineCollection(lines, linewidths=2))\n",
    "ax.autoscale()\n",
    "\n",
    "ax.set_yticks(y_pos, labels=justice_interruption_rates.index)\n",
    "ax.invert_yaxis()\n",
    "ax.set_xlabel('Interruptions per 1000 words')\n",
    "ax.set_title('Increase in justice interruptions of an advocate\\nif the advocate were female instead of male, with 95% confidence interval. No controls.')\n",
    "\n",
    "plt.show()"
   ]
  }
 ],
 "metadata": {
  "kernelspec": {
   "display_name": "Python 3 (ipykernel)",
   "language": "python",
   "name": "python3"
  },
  "language_info": {
   "codemirror_mode": {
    "name": "ipython",
    "version": 3
   },
   "file_extension": ".py",
   "mimetype": "text/x-python",
   "name": "python",
   "nbconvert_exporter": "python",
   "pygments_lexer": "ipython3",
   "version": "3.9.12"
  }
 },
 "nbformat": 4,
 "nbformat_minor": 2
}
